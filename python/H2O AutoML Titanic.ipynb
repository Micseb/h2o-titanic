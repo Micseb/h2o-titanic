{
 "cells": [
  {
   "cell_type": "code",
   "execution_count": 1,
   "metadata": {},
   "outputs": [],
   "source": [
    "# see also: \n",
    "#   http://docs.h2o.ai/h2o/latest-stable/h2o-docs/automl.html\n",
    "#   https://dzone.com/articles/h2o-automl-examples-in-python-and-scala"
   ]
  },
  {
   "cell_type": "code",
   "execution_count": 2,
   "metadata": {},
   "outputs": [
    {
     "name": "stdout",
     "output_type": "stream",
     "text": [
      "Checking whether there is an H2O instance running at http://localhost:54321 . connected.\n"
     ]
    },
    {
     "data": {
      "text/html": [
       "<div style=\"overflow:auto\"><table style=\"width:50%\"><tr><td>H2O cluster uptime:</td>\n",
       "<td>2 days 18 hours 0 mins</td></tr>\n",
       "<tr><td>H2O cluster timezone:</td>\n",
       "<td>Europe/Berlin</td></tr>\n",
       "<tr><td>H2O data parsing timezone:</td>\n",
       "<td>UTC</td></tr>\n",
       "<tr><td>H2O cluster version:</td>\n",
       "<td>3.28.0.1</td></tr>\n",
       "<tr><td>H2O cluster version age:</td>\n",
       "<td>2 months </td></tr>\n",
       "<tr><td>H2O cluster name:</td>\n",
       "<td>lars</td></tr>\n",
       "<tr><td>H2O cluster total nodes:</td>\n",
       "<td>1</td></tr>\n",
       "<tr><td>H2O cluster free memory:</td>\n",
       "<td>3.327 Gb</td></tr>\n",
       "<tr><td>H2O cluster total cores:</td>\n",
       "<td>8</td></tr>\n",
       "<tr><td>H2O cluster allowed cores:</td>\n",
       "<td>8</td></tr>\n",
       "<tr><td>H2O cluster status:</td>\n",
       "<td>locked, healthy</td></tr>\n",
       "<tr><td>H2O connection url:</td>\n",
       "<td>http://localhost:54321</td></tr>\n",
       "<tr><td>H2O connection proxy:</td>\n",
       "<td>{u'http': None, u'https': None}</td></tr>\n",
       "<tr><td>H2O internal security:</td>\n",
       "<td>False</td></tr>\n",
       "<tr><td>H2O API Extensions:</td>\n",
       "<td>Amazon S3, XGBoost, Algos, AutoML, Core V3, TargetEncoder, Core V4</td></tr>\n",
       "<tr><td>Python version:</td>\n",
       "<td>2.7.17 final</td></tr></table></div>"
      ],
      "text/plain": [
       "--------------------------  ------------------------------------------------------------------\n",
       "H2O cluster uptime:         2 days 18 hours 0 mins\n",
       "H2O cluster timezone:       Europe/Berlin\n",
       "H2O data parsing timezone:  UTC\n",
       "H2O cluster version:        3.28.0.1\n",
       "H2O cluster version age:    2 months\n",
       "H2O cluster name:           lars\n",
       "H2O cluster total nodes:    1\n",
       "H2O cluster free memory:    3.327 Gb\n",
       "H2O cluster total cores:    8\n",
       "H2O cluster allowed cores:  8\n",
       "H2O cluster status:         locked, healthy\n",
       "H2O connection url:         http://localhost:54321\n",
       "H2O connection proxy:       {u'http': None, u'https': None}\n",
       "H2O internal security:      False\n",
       "H2O API Extensions:         Amazon S3, XGBoost, Algos, AutoML, Core V3, TargetEncoder, Core V4\n",
       "Python version:             2.7.17 final\n",
       "--------------------------  ------------------------------------------------------------------"
      ]
     },
     "metadata": {},
     "output_type": "display_data"
    }
   ],
   "source": [
    "import h2o\n",
    "from h2o.automl import H2OAutoML\n",
    "\n",
    "h2o.init()"
   ]
  },
  {
   "cell_type": "code",
   "execution_count": 3,
   "metadata": {},
   "outputs": [
    {
     "name": "stdout",
     "output_type": "stream",
     "text": [
      "Parse progress: |█████████████████████████████████████████████████████████| 100%\n"
     ]
    }
   ],
   "source": [
    "df = h2o.import_file(\"https://raw.githubusercontent.com/choas/h2o-titanic/master/data/train.csv\")"
   ]
  },
  {
   "cell_type": "code",
   "execution_count": 4,
   "metadata": {},
   "outputs": [],
   "source": [
    "not_empty_embarked = ~df[\"Embarked\"].isna()\n",
    "df_e = df[not_empty_embarked]\n",
    "not_empty_age = df_e[\"Age\"] >= 0\n",
    "df = df_e[not_empty_age]"
   ]
  },
  {
   "cell_type": "code",
   "execution_count": 5,
   "metadata": {},
   "outputs": [],
   "source": [
    "# filter unknown Age and split 70% train and 30% test\n",
    "train, test = df[df[\"Age\"] >= 0].split_frame(ratios=[.7])"
   ]
  },
  {
   "cell_type": "code",
   "execution_count": 6,
   "metadata": {},
   "outputs": [],
   "source": [
    "# Identify predictors and response\n",
    "x = train.columns\n",
    "y = \"Survived\"\n",
    "x.remove(y)\n",
    "\n",
    "# remove some columns\n",
    "x.remove(\"PassengerId\")\n",
    "x.remove(\"Name\")\n",
    "x.remove(\"Ticket\")\n",
    "x.remove(\"Cabin\")"
   ]
  },
  {
   "cell_type": "code",
   "execution_count": 7,
   "metadata": {},
   "outputs": [],
   "source": [
    "# For binary classification, response should be a factor\n",
    "train[y] = train[y].asfactor()\n",
    "test[y] = test[y].asfactor()\n",
    "\n",
    "train[\"Pclass\"] = train[\"Pclass\"].asfactor()\n",
    "test[\"Pclass\"] = test[\"Pclass\"].asfactor()"
   ]
  },
  {
   "cell_type": "code",
   "execution_count": 8,
   "metadata": {},
   "outputs": [
    {
     "data": {
      "text/html": [
       "<table>\n",
       "<thead>\n",
       "<tr><th>       </th><th>PassengerId  </th><th>Survived  </th><th>Pclass  </th><th>Name                                                   </th><th>Sex   </th><th>Age          </th><th>SibSp         </th><th>Parch         </th><th>Ticket       </th><th>Fare         </th><th>Cabin  </th><th>Embarked  </th></tr>\n",
       "</thead>\n",
       "<tbody>\n",
       "<tr><td>type   </td><td>int          </td><td>enum      </td><td>enum    </td><td>string                                                 </td><td>enum  </td><td>real         </td><td>int           </td><td>int           </td><td>int          </td><td>real         </td><td>enum   </td><td>enum      </td></tr>\n",
       "<tr><td>mins   </td><td>4.0          </td><td>          </td><td>        </td><td>NaN                                                    </td><td>      </td><td>0.75         </td><td>0.0           </td><td>0.0           </td><td>695.0        </td><td>0.0          </td><td>       </td><td>          </td></tr>\n",
       "<tr><td>mean   </td><td>452.536144578</td><td>          </td><td>        </td><td>NaN                                                    </td><td>      </td><td>29.5978915663</td><td>0.512048192771</td><td>0.423694779116</td><td>288144.136612</td><td>31.4853323293</td><td>       </td><td>          </td></tr>\n",
       "<tr><td>maxs   </td><td>891.0        </td><td>          </td><td>        </td><td>NaN                                                    </td><td>      </td><td>71.0         </td><td>5.0           </td><td>6.0           </td><td>3101298.0    </td><td>512.3292     </td><td>       </td><td>          </td></tr>\n",
       "<tr><td>sigma  </td><td>259.474417891</td><td>          </td><td>        </td><td>NaN                                                    </td><td>      </td><td>14.0779225596</td><td>0.934933164359</td><td>0.845868645717</td><td>559549.744281</td><td>42.9521791579</td><td>       </td><td>          </td></tr>\n",
       "<tr><td>zeros  </td><td>0            </td><td>          </td><td>        </td><td>0                                                      </td><td>      </td><td>0            </td><td>329           </td><td>366           </td><td>0            </td><td>3            </td><td>       </td><td>          </td></tr>\n",
       "<tr><td>missing</td><td>0            </td><td>0         </td><td>0       </td><td>0                                                      </td><td>0     </td><td>0            </td><td>0             </td><td>0             </td><td>132          </td><td>0            </td><td>374    </td><td>0         </td></tr>\n",
       "<tr><td>0      </td><td>4.0          </td><td>1         </td><td>1       </td><td>Futrelle, Mrs. Jacques Heath (Lily May Peel)           </td><td>female</td><td>35.0         </td><td>1.0           </td><td>0.0           </td><td>113803.0     </td><td>53.1         </td><td>C123   </td><td>S         </td></tr>\n",
       "<tr><td>1      </td><td>8.0          </td><td>0         </td><td>3       </td><td>Palsson, Master. Gosta Leonard                         </td><td>male  </td><td>2.0          </td><td>3.0           </td><td>1.0           </td><td>349909.0     </td><td>21.075       </td><td>       </td><td>S         </td></tr>\n",
       "<tr><td>2      </td><td>10.0         </td><td>1         </td><td>2       </td><td>Nasser, Mrs. Nicholas (Adele Achem)                    </td><td>female</td><td>14.0         </td><td>1.0           </td><td>0.0           </td><td>237736.0     </td><td>30.0708      </td><td>       </td><td>C         </td></tr>\n",
       "<tr><td>3      </td><td>11.0         </td><td>1         </td><td>3       </td><td>Sandstrom, Miss. Marguerite Rut                        </td><td>female</td><td>4.0          </td><td>1.0           </td><td>1.0           </td><td>nan          </td><td>16.7         </td><td>G6     </td><td>S         </td></tr>\n",
       "<tr><td>4      </td><td>12.0         </td><td>1         </td><td>1       </td><td>Bonnell, Miss. Elizabeth                               </td><td>female</td><td>58.0         </td><td>0.0           </td><td>0.0           </td><td>113783.0     </td><td>26.55        </td><td>C103   </td><td>S         </td></tr>\n",
       "<tr><td>5      </td><td>13.0         </td><td>0         </td><td>3       </td><td>Saundercock, Mr. William Henry                         </td><td>male  </td><td>20.0         </td><td>0.0           </td><td>0.0           </td><td>nan          </td><td>8.05         </td><td>       </td><td>S         </td></tr>\n",
       "<tr><td>6      </td><td>15.0         </td><td>0         </td><td>3       </td><td>Vestrom, Miss. Hulda Amanda Adolfina                   </td><td>female</td><td>14.0         </td><td>0.0           </td><td>0.0           </td><td>350406.0     </td><td>7.8542       </td><td>       </td><td>S         </td></tr>\n",
       "<tr><td>7      </td><td>17.0         </td><td>0         </td><td>3       </td><td>Rice, Master. Eugene                                   </td><td>male  </td><td>2.0          </td><td>4.0           </td><td>1.0           </td><td>382652.0     </td><td>29.125       </td><td>       </td><td>Q         </td></tr>\n",
       "<tr><td>8      </td><td>19.0         </td><td>0         </td><td>3       </td><td>Vander Planke, Mrs. Julius (Emelia Maria Vandemoortele)</td><td>female</td><td>31.0         </td><td>1.0           </td><td>0.0           </td><td>345763.0     </td><td>18.0         </td><td>       </td><td>S         </td></tr>\n",
       "<tr><td>9      </td><td>21.0         </td><td>0         </td><td>2       </td><td>Fynney, Mr. Joseph J                                   </td><td>male  </td><td>35.0         </td><td>0.0           </td><td>0.0           </td><td>239865.0     </td><td>26.0         </td><td>       </td><td>S         </td></tr>\n",
       "</tbody>\n",
       "</table>"
      ]
     },
     "metadata": {},
     "output_type": "display_data"
    }
   ],
   "source": [
    "train.summary()"
   ]
  },
  {
   "cell_type": "code",
   "execution_count": 9,
   "metadata": {},
   "outputs": [
    {
     "name": "stdout",
     "output_type": "stream",
     "text": [
      "AutoML progress: |████████████████████████████████████████████████████████| 100%\n"
     ]
    }
   ],
   "source": [
    "# Run AutoML for 60 seconds\n",
    "aml = H2OAutoML(max_runtime_secs = 60)\n",
    "aml.train(x = x, y = y, training_frame = train, validation_frame = test)"
   ]
  },
  {
   "cell_type": "markdown",
   "metadata": {},
   "source": [
    "## View the AutoML Leaderboard"
   ]
  },
  {
   "cell_type": "code",
   "execution_count": 10,
   "metadata": {},
   "outputs": [
    {
     "data": {
      "text/html": [
       "<table>\n",
       "<thead>\n",
       "<tr><th>model_id                                           </th><th style=\"text-align: right;\">     auc</th><th style=\"text-align: right;\">  logloss</th><th style=\"text-align: right;\">   aucpr</th><th style=\"text-align: right;\">  mean_per_class_error</th><th style=\"text-align: right;\">    rmse</th><th style=\"text-align: right;\">     mse</th></tr>\n",
       "</thead>\n",
       "<tbody>\n",
       "<tr><td>XRT_1_AutoML_20200217_083015                       </td><td style=\"text-align: right;\">0.863107</td><td style=\"text-align: right;\"> 0.424974</td><td style=\"text-align: right;\">0.825488</td><td style=\"text-align: right;\">              0.187793</td><td style=\"text-align: right;\">0.359296</td><td style=\"text-align: right;\">0.129094</td></tr>\n",
       "<tr><td>DRF_1_AutoML_20200217_083015                       </td><td style=\"text-align: right;\">0.860005</td><td style=\"text-align: right;\"> 0.437755</td><td style=\"text-align: right;\">0.802732</td><td style=\"text-align: right;\">              0.205945</td><td style=\"text-align: right;\">0.370342</td><td style=\"text-align: right;\">0.137153</td></tr>\n",
       "<tr><td>GBM_4_AutoML_20200217_083015                       </td><td style=\"text-align: right;\">0.859552</td><td style=\"text-align: right;\"> 0.429859</td><td style=\"text-align: right;\">0.816084</td><td style=\"text-align: right;\">              0.196089</td><td style=\"text-align: right;\">0.36767 </td><td style=\"text-align: right;\">0.135181</td></tr>\n",
       "<tr><td>GBM_3_AutoML_20200217_083015                       </td><td style=\"text-align: right;\">0.856406</td><td style=\"text-align: right;\"> 0.431062</td><td style=\"text-align: right;\">0.803918</td><td style=\"text-align: right;\">              0.187401</td><td style=\"text-align: right;\">0.365781</td><td style=\"text-align: right;\">0.133796</td></tr>\n",
       "<tr><td>GBM_1_AutoML_20200217_083015                       </td><td style=\"text-align: right;\">0.855508</td><td style=\"text-align: right;\"> 0.441215</td><td style=\"text-align: right;\">0.81531 </td><td style=\"text-align: right;\">              0.211496</td><td style=\"text-align: right;\">0.371834</td><td style=\"text-align: right;\">0.138261</td></tr>\n",
       "<tr><td>XGBoost_grid__1_AutoML_20200217_083015_model_4     </td><td style=\"text-align: right;\">0.853783</td><td style=\"text-align: right;\"> 0.450008</td><td style=\"text-align: right;\">0.810371</td><td style=\"text-align: right;\">              0.217003</td><td style=\"text-align: right;\">0.376146</td><td style=\"text-align: right;\">0.141486</td></tr>\n",
       "<tr><td>XGBoost_grid__1_AutoML_20200217_083015_model_2     </td><td style=\"text-align: right;\">0.852389</td><td style=\"text-align: right;\"> 0.433726</td><td style=\"text-align: right;\">0.80963 </td><td style=\"text-align: right;\">              0.204768</td><td style=\"text-align: right;\">0.366508</td><td style=\"text-align: right;\">0.134328</td></tr>\n",
       "<tr><td>GBM_2_AutoML_20200217_083015                       </td><td style=\"text-align: right;\">0.851273</td><td style=\"text-align: right;\"> 0.438832</td><td style=\"text-align: right;\">0.806479</td><td style=\"text-align: right;\">              0.199636</td><td style=\"text-align: right;\">0.369894</td><td style=\"text-align: right;\">0.136821</td></tr>\n",
       "<tr><td>StackedEnsemble_BestOfFamily_AutoML_20200217_083015</td><td style=\"text-align: right;\">0.851212</td><td style=\"text-align: right;\"> 0.424679</td><td style=\"text-align: right;\">0.817741</td><td style=\"text-align: right;\">              0.195313</td><td style=\"text-align: right;\">0.362109</td><td style=\"text-align: right;\">0.131123</td></tr>\n",
       "<tr><td>GBM_grid__1_AutoML_20200217_083015_model_14        </td><td style=\"text-align: right;\">0.849705</td><td style=\"text-align: right;\"> 0.485149</td><td style=\"text-align: right;\">0.815824</td><td style=\"text-align: right;\">              0.194128</td><td style=\"text-align: right;\">0.390635</td><td style=\"text-align: right;\">0.152596</td></tr>\n",
       "<tr><td>GBM_grid__1_AutoML_20200217_083015_model_8         </td><td style=\"text-align: right;\">0.849635</td><td style=\"text-align: right;\"> 0.43378 </td><td style=\"text-align: right;\">0.807204</td><td style=\"text-align: right;\">              0.205161</td><td style=\"text-align: right;\">0.367375</td><td style=\"text-align: right;\">0.134964</td></tr>\n",
       "<tr><td>XGBoost_3_AutoML_20200217_083015                   </td><td style=\"text-align: right;\">0.849007</td><td style=\"text-align: right;\"> 0.430405</td><td style=\"text-align: right;\">0.80544 </td><td style=\"text-align: right;\">              0.205195</td><td style=\"text-align: right;\">0.365378</td><td style=\"text-align: right;\">0.133501</td></tr>\n",
       "<tr><td>GBM_grid__1_AutoML_20200217_083015_model_1         </td><td style=\"text-align: right;\">0.848432</td><td style=\"text-align: right;\"> 0.446473</td><td style=\"text-align: right;\">0.797801</td><td style=\"text-align: right;\">              0.200437</td><td style=\"text-align: right;\">0.373433</td><td style=\"text-align: right;\">0.139452</td></tr>\n",
       "<tr><td>GBM_grid__1_AutoML_20200217_083015_model_5         </td><td style=\"text-align: right;\">0.847892</td><td style=\"text-align: right;\"> 0.463946</td><td style=\"text-align: right;\">0.799597</td><td style=\"text-align: right;\">              0.201997</td><td style=\"text-align: right;\">0.383515</td><td style=\"text-align: right;\">0.147084</td></tr>\n",
       "<tr><td>StackedEnsemble_AllModels_AutoML_20200217_083015   </td><td style=\"text-align: right;\">0.847465</td><td style=\"text-align: right;\"> 0.429942</td><td style=\"text-align: right;\">0.812502</td><td style=\"text-align: right;\">              0.197292</td><td style=\"text-align: right;\">0.364556</td><td style=\"text-align: right;\">0.132901</td></tr>\n",
       "<tr><td>GBM_grid__1_AutoML_20200217_083015_model_2         </td><td style=\"text-align: right;\">0.846515</td><td style=\"text-align: right;\"> 0.454569</td><td style=\"text-align: right;\">0.802809</td><td style=\"text-align: right;\">              0.219347</td><td style=\"text-align: right;\">0.379652</td><td style=\"text-align: right;\">0.144135</td></tr>\n",
       "<tr><td>XGBoost_grid__1_AutoML_20200217_083015_model_1     </td><td style=\"text-align: right;\">0.84465 </td><td style=\"text-align: right;\"> 0.440055</td><td style=\"text-align: right;\">0.800439</td><td style=\"text-align: right;\">              0.211104</td><td style=\"text-align: right;\">0.370973</td><td style=\"text-align: right;\">0.137621</td></tr>\n",
       "<tr><td>XGBoost_grid__1_AutoML_20200217_083015_model_3     </td><td style=\"text-align: right;\">0.843631</td><td style=\"text-align: right;\"> 0.524151</td><td style=\"text-align: right;\">0.774497</td><td style=\"text-align: right;\">              0.229212</td><td style=\"text-align: right;\">0.403837</td><td style=\"text-align: right;\">0.163085</td></tr>\n",
       "<tr><td>GBM_grid__1_AutoML_20200217_083015_model_10        </td><td style=\"text-align: right;\">0.843265</td><td style=\"text-align: right;\"> 0.486076</td><td style=\"text-align: right;\">0.790296</td><td style=\"text-align: right;\">              0.222912</td><td style=\"text-align: right;\">0.387001</td><td style=\"text-align: right;\">0.14977 </td></tr>\n",
       "<tr><td>XGBoost_1_AutoML_20200217_083015                   </td><td style=\"text-align: right;\">0.8414  </td><td style=\"text-align: right;\"> 0.440409</td><td style=\"text-align: right;\">0.79436 </td><td style=\"text-align: right;\">              0.216602</td><td style=\"text-align: right;\">0.370828</td><td style=\"text-align: right;\">0.137514</td></tr>\n",
       "<tr><td>GLM_1_AutoML_20200217_083015                       </td><td style=\"text-align: right;\">0.840555</td><td style=\"text-align: right;\"> 0.453823</td><td style=\"text-align: right;\">0.785206</td><td style=\"text-align: right;\">              0.2032  </td><td style=\"text-align: right;\">0.376954</td><td style=\"text-align: right;\">0.142095</td></tr>\n",
       "<tr><td>DeepLearning_grid__1_AutoML_20200217_083015_model_2</td><td style=\"text-align: right;\">0.830254</td><td style=\"text-align: right;\"> 0.492167</td><td style=\"text-align: right;\">0.772595</td><td style=\"text-align: right;\">              0.224506</td><td style=\"text-align: right;\">0.386705</td><td style=\"text-align: right;\">0.149541</td></tr>\n",
       "<tr><td>XGBoost_grid__1_AutoML_20200217_083015_model_5     </td><td style=\"text-align: right;\">0.828215</td><td style=\"text-align: right;\"> 0.454855</td><td style=\"text-align: right;\">0.784086</td><td style=\"text-align: right;\">              0.219731</td><td style=\"text-align: right;\">0.376728</td><td style=\"text-align: right;\">0.141924</td></tr>\n",
       "<tr><td>XGBoost_2_AutoML_20200217_083015                   </td><td style=\"text-align: right;\">0.827814</td><td style=\"text-align: right;\"> 0.468479</td><td style=\"text-align: right;\">0.776841</td><td style=\"text-align: right;\">              0.228428</td><td style=\"text-align: right;\">0.385657</td><td style=\"text-align: right;\">0.148731</td></tr>\n",
       "<tr><td>GBM_grid__1_AutoML_20200217_083015_model_17        </td><td style=\"text-align: right;\">0.827143</td><td style=\"text-align: right;\"> 0.49874 </td><td style=\"text-align: right;\">0.774448</td><td style=\"text-align: right;\">              0.224114</td><td style=\"text-align: right;\">0.390616</td><td style=\"text-align: right;\">0.152581</td></tr>\n",
       "<tr><td>DeepLearning_grid__1_AutoML_20200217_083015_model_3</td><td style=\"text-align: right;\">0.825531</td><td style=\"text-align: right;\"> 0.506211</td><td style=\"text-align: right;\">0.754254</td><td style=\"text-align: right;\">              0.218581</td><td style=\"text-align: right;\">0.39073 </td><td style=\"text-align: right;\">0.15267 </td></tr>\n",
       "<tr><td>GBM_5_AutoML_20200217_083015                       </td><td style=\"text-align: right;\">0.82113 </td><td style=\"text-align: right;\"> 0.479199</td><td style=\"text-align: right;\">0.756345</td><td style=\"text-align: right;\">              0.220933</td><td style=\"text-align: right;\">0.389456</td><td style=\"text-align: right;\">0.151676</td></tr>\n",
       "<tr><td>DeepLearning_1_AutoML_20200217_083015              </td><td style=\"text-align: right;\">0.820111</td><td style=\"text-align: right;\"> 0.469193</td><td style=\"text-align: right;\">0.788871</td><td style=\"text-align: right;\">              0.22211 </td><td style=\"text-align: right;\">0.38585 </td><td style=\"text-align: right;\">0.14888 </td></tr>\n",
       "<tr><td>GBM_grid__1_AutoML_20200217_083015_model_4         </td><td style=\"text-align: right;\">0.819161</td><td style=\"text-align: right;\"> 0.526912</td><td style=\"text-align: right;\">0.749628</td><td style=\"text-align: right;\">              0.23004 </td><td style=\"text-align: right;\">0.397301</td><td style=\"text-align: right;\">0.157848</td></tr>\n",
       "<tr><td>GBM_grid__1_AutoML_20200217_083015_model_7         </td><td style=\"text-align: right;\">0.812852</td><td style=\"text-align: right;\"> 0.481827</td><td style=\"text-align: right;\">0.777186</td><td style=\"text-align: right;\">              0.219356</td><td style=\"text-align: right;\">0.38957 </td><td style=\"text-align: right;\">0.151764</td></tr>\n",
       "<tr><td>DeepLearning_grid__2_AutoML_20200217_083015_model_1</td><td style=\"text-align: right;\">0.811702</td><td style=\"text-align: right;\"> 0.60346 </td><td style=\"text-align: right;\">0.729381</td><td style=\"text-align: right;\">              0.239077</td><td style=\"text-align: right;\">0.408182</td><td style=\"text-align: right;\">0.166613</td></tr>\n",
       "<tr><td>GBM_grid__1_AutoML_20200217_083015_model_15        </td><td style=\"text-align: right;\">0.804451</td><td style=\"text-align: right;\"> 0.625083</td><td style=\"text-align: right;\">0.725015</td><td style=\"text-align: right;\">              0.235887</td><td style=\"text-align: right;\">0.466112</td><td style=\"text-align: right;\">0.217261</td></tr>\n",
       "<tr><td>DeepLearning_grid__1_AutoML_20200217_083015_model_1</td><td style=\"text-align: right;\">0.799458</td><td style=\"text-align: right;\"> 0.577277</td><td style=\"text-align: right;\">0.731427</td><td style=\"text-align: right;\">              0.234746</td><td style=\"text-align: right;\">0.405359</td><td style=\"text-align: right;\">0.164316</td></tr>\n",
       "<tr><td>GBM_grid__1_AutoML_20200217_083015_model_9         </td><td style=\"text-align: right;\">0.797907</td><td style=\"text-align: right;\"> 0.626208</td><td style=\"text-align: right;\">0.703001</td><td style=\"text-align: right;\">              0.246153</td><td style=\"text-align: right;\">0.466684</td><td style=\"text-align: right;\">0.217794</td></tr>\n",
       "<tr><td>GBM_grid__1_AutoML_20200217_083015_model_3         </td><td style=\"text-align: right;\">0.784844</td><td style=\"text-align: right;\"> 2.00354 </td><td style=\"text-align: right;\">0.625636</td><td style=\"text-align: right;\">              0.250928</td><td style=\"text-align: right;\">0.465304</td><td style=\"text-align: right;\">0.216508</td></tr>\n",
       "<tr><td>GBM_grid__1_AutoML_20200217_083015_model_11        </td><td style=\"text-align: right;\">0.782334</td><td style=\"text-align: right;\"> 0.620493</td><td style=\"text-align: right;\">0.693463</td><td style=\"text-align: right;\">              0.258361</td><td style=\"text-align: right;\">0.463779</td><td style=\"text-align: right;\">0.215091</td></tr>\n",
       "<tr><td>XGBoost_grid__1_AutoML_20200217_083015_model_6     </td><td style=\"text-align: right;\">0.774483</td><td style=\"text-align: right;\"> 0.610925</td><td style=\"text-align: right;\">0.539008</td><td style=\"text-align: right;\">              0.225665</td><td style=\"text-align: right;\">0.457469</td><td style=\"text-align: right;\">0.209278</td></tr>\n",
       "<tr><td>GBM_grid__1_AutoML_20200217_083015_model_6         </td><td style=\"text-align: right;\">0.765647</td><td style=\"text-align: right;\"> 0.636472</td><td style=\"text-align: right;\">0.674528</td><td style=\"text-align: right;\">              0.269063</td><td style=\"text-align: right;\">0.471757</td><td style=\"text-align: right;\">0.222555</td></tr>\n",
       "<tr><td>GBM_grid__1_AutoML_20200217_083015_model_13        </td><td style=\"text-align: right;\">0.7438  </td><td style=\"text-align: right;\"> 0.631578</td><td style=\"text-align: right;\">0.610664</td><td style=\"text-align: right;\">              0.319893</td><td style=\"text-align: right;\">0.469367</td><td style=\"text-align: right;\">0.220306</td></tr>\n",
       "<tr><td>GBM_grid__1_AutoML_20200217_083015_model_12        </td><td style=\"text-align: right;\">0.694503</td><td style=\"text-align: right;\"> 0.644917</td><td style=\"text-align: right;\">0.616518</td><td style=\"text-align: right;\">              0.358506</td><td style=\"text-align: right;\">0.475913</td><td style=\"text-align: right;\">0.226493</td></tr>\n",
       "<tr><td>DeepLearning_grid__2_AutoML_20200217_083015_model_2</td><td style=\"text-align: right;\">0.680255</td><td style=\"text-align: right;\"> 0.722738</td><td style=\"text-align: right;\">0.546835</td><td style=\"text-align: right;\">              0.384135</td><td style=\"text-align: right;\">0.486137</td><td style=\"text-align: right;\">0.236329</td></tr>\n",
       "<tr><td>GBM_grid__1_AutoML_20200217_083015_model_16        </td><td style=\"text-align: right;\">0.64647 </td><td style=\"text-align: right;\">10.5878  </td><td style=\"text-align: right;\">0.240938</td><td style=\"text-align: right;\">              0.331753</td><td style=\"text-align: right;\">0.581154</td><td style=\"text-align: right;\">0.33774 </td></tr>\n",
       "</tbody>\n",
       "</table>"
      ]
     },
     "metadata": {},
     "output_type": "display_data"
    },
    {
     "data": {
      "text/plain": []
     },
     "execution_count": 10,
     "metadata": {},
     "output_type": "execute_result"
    }
   ],
   "source": [
    "lb = aml.leaderboard\n",
    "lb.head(rows=lb.nrows)"
   ]
  },
  {
   "cell_type": "code",
   "execution_count": 11,
   "metadata": {},
   "outputs": [
    {
     "name": "stdout",
     "output_type": "stream",
     "text": [
      "drf prediction progress: |████████████████████████████████████████████████| 100%\n"
     ]
    }
   ],
   "source": [
    "# To generate predictions on a test set, use the leader model object directly:\n",
    "preds = aml.leader.predict(test)"
   ]
  },
  {
   "cell_type": "code",
   "execution_count": 12,
   "metadata": {},
   "outputs": [
    {
     "data": {
      "text/html": [
       "<table>\n",
       "<thead>\n",
       "<tr><th style=\"text-align: right;\">  predict</th><th style=\"text-align: right;\">        p0</th><th style=\"text-align: right;\">       p1</th></tr>\n",
       "</thead>\n",
       "<tbody>\n",
       "<tr><td style=\"text-align: right;\">        0</td><td style=\"text-align: right;\">0.784366  </td><td style=\"text-align: right;\">0.215634 </td></tr>\n",
       "<tr><td style=\"text-align: right;\">        1</td><td style=\"text-align: right;\">0.00252404</td><td style=\"text-align: right;\">0.997476 </td></tr>\n",
       "<tr><td style=\"text-align: right;\">        1</td><td style=\"text-align: right;\">0.48098   </td><td style=\"text-align: right;\">0.51902  </td></tr>\n",
       "<tr><td style=\"text-align: right;\">        0</td><td style=\"text-align: right;\">0.947306  </td><td style=\"text-align: right;\">0.0526941</td></tr>\n",
       "<tr><td style=\"text-align: right;\">        0</td><td style=\"text-align: right;\">0.919564  </td><td style=\"text-align: right;\">0.0804362</td></tr>\n",
       "<tr><td style=\"text-align: right;\">        1</td><td style=\"text-align: right;\">0.326633  </td><td style=\"text-align: right;\">0.673367 </td></tr>\n",
       "<tr><td style=\"text-align: right;\">        0</td><td style=\"text-align: right;\">0.967906  </td><td style=\"text-align: right;\">0.0320941</td></tr>\n",
       "<tr><td style=\"text-align: right;\">        1</td><td style=\"text-align: right;\">0.247187  </td><td style=\"text-align: right;\">0.752813 </td></tr>\n",
       "<tr><td style=\"text-align: right;\">        1</td><td style=\"text-align: right;\">0.348063  </td><td style=\"text-align: right;\">0.651937 </td></tr>\n",
       "<tr><td style=\"text-align: right;\">        1</td><td style=\"text-align: right;\">0.568073  </td><td style=\"text-align: right;\">0.431927 </td></tr>\n",
       "</tbody>\n",
       "</table>"
      ]
     },
     "metadata": {},
     "output_type": "display_data"
    },
    {
     "data": {
      "text/plain": []
     },
     "execution_count": 12,
     "metadata": {},
     "output_type": "execute_result"
    }
   ],
   "source": [
    "preds"
   ]
  },
  {
   "cell_type": "markdown",
   "metadata": {},
   "source": [
    "### save the model"
   ]
  },
  {
   "cell_type": "code",
   "execution_count": 13,
   "metadata": {},
   "outputs": [
    {
     "data": {
      "text/plain": [
       "u'/Users/lars/h2o/titanic/XRT_1_AutoML_20200217_083015.zip'"
      ]
     },
     "execution_count": 13,
     "metadata": {},
     "output_type": "execute_result"
    }
   ],
   "source": [
    "model_id = aml.leader.model_id\n",
    "aml.download_mojo(genmodel_name=model_id, path=\"~/h2o/titanic/\"+model_id+\".zip\")"
   ]
  },
  {
   "cell_type": "markdown",
   "metadata": {},
   "source": [
    "### show parameters"
   ]
  },
  {
   "cell_type": "code",
   "execution_count": 14,
   "metadata": {},
   "outputs": [
    {
     "data": {
      "text/plain": [
       "{u'balance_classes': {u'actual': False, u'default': False},\n",
       " u'binomial_double_trees': {u'actual': False, u'default': False},\n",
       " u'build_tree_one_node': {u'actual': False, u'default': False},\n",
       " u'calibrate_model': {u'actual': False, u'default': False},\n",
       " u'calibration_frame': {u'actual': None, u'default': None},\n",
       " u'categorical_encoding': {u'actual': u'AUTO', u'default': u'AUTO'},\n",
       " u'check_constant_response': {u'actual': True, u'default': True},\n",
       " u'checkpoint': {u'actual': None, u'default': None},\n",
       " u'class_sampling_factors': {u'actual': None, u'default': None},\n",
       " u'col_sample_rate_change_per_level': {u'actual': 1.0, u'default': 1.0},\n",
       " u'col_sample_rate_per_tree': {u'actual': 1.0, u'default': 1.0},\n",
       " u'custom_metric_func': {u'actual': None, u'default': None},\n",
       " u'distribution': {u'actual': u'multinomial', u'default': u'AUTO'},\n",
       " u'export_checkpoints_dir': {u'actual': None, u'default': None},\n",
       " u'fold_assignment': {u'actual': u'Modulo', u'default': u'AUTO'},\n",
       " u'fold_column': {u'actual': None, u'default': None},\n",
       " u'histogram_type': {u'actual': u'Random', u'default': u'AUTO'},\n",
       " u'ignore_const_cols': {u'actual': True, u'default': True},\n",
       " u'ignored_columns': {u'actual': [u'Cabin',\n",
       "   u'Ticket',\n",
       "   u'PassengerId',\n",
       "   u'Name'],\n",
       "  u'default': None},\n",
       " u'keep_cross_validation_fold_assignment': {u'actual': False,\n",
       "  u'default': False},\n",
       " u'keep_cross_validation_models': {u'actual': False, u'default': True},\n",
       " u'keep_cross_validation_predictions': {u'actual': True, u'default': False},\n",
       " u'max_after_balance_size': {u'actual': 5.0, u'default': 5.0},\n",
       " u'max_confusion_matrix_size': {u'actual': 20, u'default': 20},\n",
       " u'max_depth': {u'actual': 20, u'default': 20},\n",
       " u'max_hit_ratio_k': {u'actual': 0, u'default': 0},\n",
       " u'max_runtime_secs': {u'actual': 0.0, u'default': 0.0},\n",
       " u'min_rows': {u'actual': 1.0, u'default': 1.0},\n",
       " u'min_split_improvement': {u'actual': 1e-05, u'default': 1e-05},\n",
       " u'model_id': {u'actual': {u'URL': u'/3/Models/XRT_1_AutoML_20200217_083015',\n",
       "   u'__meta': {u'schema_name': u'ModelKeyV3',\n",
       "    u'schema_type': u'Key<Model>',\n",
       "    u'schema_version': 3},\n",
       "   u'name': u'XRT_1_AutoML_20200217_083015',\n",
       "   u'type': u'Key<Model>'},\n",
       "  u'default': None},\n",
       " u'mtries': {u'actual': -1, u'default': -1},\n",
       " u'nbins': {u'actual': 20, u'default': 20},\n",
       " u'nbins_cats': {u'actual': 1024, u'default': 1024},\n",
       " u'nbins_top_level': {u'actual': 1024, u'default': 1024},\n",
       " u'nfolds': {u'actual': 5, u'default': 0},\n",
       " u'ntrees': {u'actual': 40, u'default': 50},\n",
       " u'offset_column': {u'actual': None, u'default': None},\n",
       " u'r2_stopping': {u'actual': 1.7976931348623157e+308,\n",
       "  u'default': 1.7976931348623157e+308},\n",
       " u'response_column': {u'actual': {u'__meta': {u'schema_name': u'ColSpecifierV3',\n",
       "    u'schema_type': u'VecSpecifier',\n",
       "    u'schema_version': 3},\n",
       "   u'column_name': u'Survived',\n",
       "   u'is_member_of_frames': None},\n",
       "  u'default': None},\n",
       " u'sample_rate': {u'actual': 0.632, u'default': 0.632},\n",
       " u'sample_rate_per_class': {u'actual': None, u'default': None},\n",
       " u'score_each_iteration': {u'actual': False, u'default': False},\n",
       " u'score_tree_interval': {u'actual': 5, u'default': 0},\n",
       " u'seed': {u'actual': -6090607558199034685, u'default': -1},\n",
       " u'stopping_metric': {u'actual': u'logloss', u'default': u'AUTO'},\n",
       " u'stopping_rounds': {u'actual': 0, u'default': 0},\n",
       " u'stopping_tolerance': {u'actual': 0.04481107149482209, u'default': 0.001},\n",
       " u'training_frame': {u'actual': {u'URL': u'/3/Frames/automl_training_py_11_sid_9650',\n",
       "   u'__meta': {u'schema_name': u'FrameKeyV3',\n",
       "    u'schema_type': u'Key<Frame>',\n",
       "    u'schema_version': 3},\n",
       "   u'name': u'automl_training_py_11_sid_9650',\n",
       "   u'type': u'Key<Frame>'},\n",
       "  u'default': None},\n",
       " u'validation_frame': {u'actual': {u'URL': u'/3/Frames/py_13_sid_9650',\n",
       "   u'__meta': {u'schema_name': u'FrameKeyV3',\n",
       "    u'schema_type': u'Key<Frame>',\n",
       "    u'schema_version': 3},\n",
       "   u'name': u'py_13_sid_9650',\n",
       "   u'type': u'Key<Frame>'},\n",
       "  u'default': None},\n",
       " u'weights_column': {u'actual': None, u'default': None}}"
      ]
     },
     "execution_count": 14,
     "metadata": {},
     "output_type": "execute_result"
    }
   ],
   "source": [
    "aml.leader.params"
   ]
  },
  {
   "cell_type": "code",
   "execution_count": null,
   "metadata": {},
   "outputs": [],
   "source": []
  }
 ],
 "metadata": {
  "kernelspec": {
   "display_name": "Python 3",
   "language": "python",
   "name": "python3"
  },
  "language_info": {
   "codemirror_mode": {
    "name": "ipython",
    "version": 2
   },
   "file_extension": ".py",
   "mimetype": "text/x-python",
   "name": "python",
   "nbconvert_exporter": "python",
   "pygments_lexer": "ipython2",
   "version": "2.7.17"
  }
 },
 "nbformat": 4,
 "nbformat_minor": 2
}
