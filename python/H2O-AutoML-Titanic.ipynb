{
 "cells": [
  {
   "cell_type": "code",
   "execution_count": 1,
   "metadata": {},
   "outputs": [],
   "source": [
    "# see also: \n",
    "#   http://docs.h2o.ai/h2o/latest-stable/h2o-docs/automl.html\n",
    "#   https://dzone.com/articles/h2o-automl-examples-in-python-and-scala"
   ]
  },
  {
   "cell_type": "code",
   "execution_count": 2,
   "metadata": {},
   "outputs": [
    {
     "name": "stdout",
     "output_type": "stream",
     "text": [
      "Checking whether there is an H2O instance running at http://localhost:54321 . connected.\n"
     ]
    },
    {
     "data": {
      "text/html": [
       "<div style=\"overflow:auto\"><table style=\"width:50%\"><tr><td>H2O cluster uptime:</td>\n",
       "<td>4 mins 52 secs</td></tr>\n",
       "<tr><td>H2O cluster timezone:</td>\n",
       "<td>Europe/Berlin</td></tr>\n",
       "<tr><td>H2O data parsing timezone:</td>\n",
       "<td>UTC</td></tr>\n",
       "<tr><td>H2O cluster version:</td>\n",
       "<td>3.28.0.1</td></tr>\n",
       "<tr><td>H2O cluster version age:</td>\n",
       "<td>2 months and 1 day </td></tr>\n",
       "<tr><td>H2O cluster name:</td>\n",
       "<td>lars</td></tr>\n",
       "<tr><td>H2O cluster total nodes:</td>\n",
       "<td>1</td></tr>\n",
       "<tr><td>H2O cluster free memory:</td>\n",
       "<td>4.000 Gb</td></tr>\n",
       "<tr><td>H2O cluster total cores:</td>\n",
       "<td>8</td></tr>\n",
       "<tr><td>H2O cluster allowed cores:</td>\n",
       "<td>8</td></tr>\n",
       "<tr><td>H2O cluster status:</td>\n",
       "<td>locked, healthy</td></tr>\n",
       "<tr><td>H2O connection url:</td>\n",
       "<td>http://localhost:54321</td></tr>\n",
       "<tr><td>H2O connection proxy:</td>\n",
       "<td>{u'http': None, u'https': None}</td></tr>\n",
       "<tr><td>H2O internal security:</td>\n",
       "<td>False</td></tr>\n",
       "<tr><td>H2O API Extensions:</td>\n",
       "<td>Amazon S3, XGBoost, Algos, AutoML, Core V3, TargetEncoder, Core V4</td></tr>\n",
       "<tr><td>Python version:</td>\n",
       "<td>2.7.17 final</td></tr></table></div>"
      ],
      "text/plain": [
       "--------------------------  ------------------------------------------------------------------\n",
       "H2O cluster uptime:         4 mins 52 secs\n",
       "H2O cluster timezone:       Europe/Berlin\n",
       "H2O data parsing timezone:  UTC\n",
       "H2O cluster version:        3.28.0.1\n",
       "H2O cluster version age:    2 months and 1 day\n",
       "H2O cluster name:           lars\n",
       "H2O cluster total nodes:    1\n",
       "H2O cluster free memory:    4.000 Gb\n",
       "H2O cluster total cores:    8\n",
       "H2O cluster allowed cores:  8\n",
       "H2O cluster status:         locked, healthy\n",
       "H2O connection url:         http://localhost:54321\n",
       "H2O connection proxy:       {u'http': None, u'https': None}\n",
       "H2O internal security:      False\n",
       "H2O API Extensions:         Amazon S3, XGBoost, Algos, AutoML, Core V3, TargetEncoder, Core V4\n",
       "Python version:             2.7.17 final\n",
       "--------------------------  ------------------------------------------------------------------"
      ]
     },
     "metadata": {},
     "output_type": "display_data"
    }
   ],
   "source": [
    "import h2o\n",
    "from h2o.automl import H2OAutoML\n",
    "\n",
    "h2o.init()"
   ]
  },
  {
   "cell_type": "code",
   "execution_count": 3,
   "metadata": {},
   "outputs": [
    {
     "name": "stdout",
     "output_type": "stream",
     "text": [
      "Parse progress: |█████████████████████████████████████████████████████████| 100%\n"
     ]
    }
   ],
   "source": [
    "df = h2o.import_file(\"https://raw.githubusercontent.com/choas/h2o-titanic/master/data/train.csv\")"
   ]
  },
  {
   "cell_type": "code",
   "execution_count": 4,
   "metadata": {},
   "outputs": [
    {
     "name": "stdout",
     "output_type": "stream",
     "text": [
      "179 rows removed\n"
     ]
    }
   ],
   "source": [
    "nrows_prev = df.nrows\n",
    "not_empty_embarked = ~df[\"Embarked\"].isna()\n",
    "df_e = df[not_empty_embarked]\n",
    "not_empty_age = df_e[\"Age\"] >= 0\n",
    "df = df_e[not_empty_age]\n",
    "print(\"%d rows removed\" % (nrows_prev - df.nrows))"
   ]
  },
  {
   "cell_type": "code",
   "execution_count": 5,
   "metadata": {},
   "outputs": [],
   "source": [
    "# filter unknown Age and split 70% train and 30% test\n",
    "train, test = df[df[\"Age\"] >= 0].split_frame(ratios=[.7])"
   ]
  },
  {
   "cell_type": "code",
   "execution_count": 6,
   "metadata": {},
   "outputs": [],
   "source": [
    "# Identify predictors and response\n",
    "x = train.columns\n",
    "y = \"Survived\"\n",
    "x.remove(y)\n",
    "\n",
    "# remove some columns\n",
    "x.remove(\"PassengerId\")\n",
    "x.remove(\"Name\")\n",
    "x.remove(\"Ticket\")\n",
    "x.remove(\"Cabin\")"
   ]
  },
  {
   "cell_type": "code",
   "execution_count": 7,
   "metadata": {},
   "outputs": [],
   "source": [
    "# For binary classification, response should be a factor\n",
    "train[y] = train[y].asfactor()\n",
    "test[y] = test[y].asfactor()\n",
    "\n",
    "train[\"Pclass\"] = train[\"Pclass\"].asfactor()\n",
    "test[\"Pclass\"] = test[\"Pclass\"].asfactor()"
   ]
  },
  {
   "cell_type": "code",
   "execution_count": 8,
   "metadata": {},
   "outputs": [
    {
     "data": {
      "text/html": [
       "<table>\n",
       "<thead>\n",
       "<tr><th>       </th><th>PassengerId  </th><th>Survived  </th><th>Pclass  </th><th>Name                                                   </th><th>Sex   </th><th>Age          </th><th>SibSp         </th><th>Parch         </th><th>Ticket       </th><th>Fare         </th><th>Cabin  </th><th>Embarked  </th></tr>\n",
       "</thead>\n",
       "<tbody>\n",
       "<tr><td>type   </td><td>int          </td><td>enum      </td><td>enum    </td><td>string                                                 </td><td>enum  </td><td>real         </td><td>int           </td><td>int           </td><td>int          </td><td>real         </td><td>enum   </td><td>enum      </td></tr>\n",
       "<tr><td>mins   </td><td>1.0          </td><td>          </td><td>        </td><td>NaN                                                    </td><td>      </td><td>0.67         </td><td>0.0           </td><td>0.0           </td><td>695.0        </td><td>0.0          </td><td>       </td><td>          </td></tr>\n",
       "<tr><td>mean   </td><td>444.157142857</td><td>          </td><td>        </td><td>NaN                                                    </td><td>      </td><td>29.4974489796</td><td>0.532653061224</td><td>0.428571428571</td><td>303082.283333</td><td>32.3219722449</td><td>       </td><td>          </td></tr>\n",
       "<tr><td>maxs   </td><td>891.0        </td><td>          </td><td>        </td><td>NaN                                                    </td><td>      </td><td>74.0         </td><td>5.0           </td><td>6.0           </td><td>3101298.0    </td><td>512.3292     </td><td>       </td><td>          </td></tr>\n",
       "<tr><td>sigma  </td><td>258.145069866</td><td>          </td><td>        </td><td>NaN                                                    </td><td>      </td><td>14.0656996182</td><td>0.967759995577</td><td>0.899897744702</td><td>581908.463656</td><td>52.0862930438</td><td>       </td><td>          </td></tr>\n",
       "<tr><td>zeros  </td><td>0            </td><td>          </td><td>        </td><td>0                                                      </td><td>      </td><td>0            </td><td>323           </td><td>365           </td><td>0            </td><td>5            </td><td>       </td><td>          </td></tr>\n",
       "<tr><td>missing</td><td>0            </td><td>0         </td><td>0       </td><td>0                                                      </td><td>0     </td><td>0            </td><td>0             </td><td>0             </td><td>130          </td><td>0            </td><td>383    </td><td>0         </td></tr>\n",
       "<tr><td>0      </td><td>1.0          </td><td>0         </td><td>3       </td><td>Braund, Mr. Owen Harris                                </td><td>male  </td><td>22.0         </td><td>1.0           </td><td>0.0           </td><td>nan          </td><td>7.25         </td><td>       </td><td>S         </td></tr>\n",
       "<tr><td>1      </td><td>8.0          </td><td>0         </td><td>3       </td><td>Palsson, Master. Gosta Leonard                         </td><td>male  </td><td>2.0          </td><td>3.0           </td><td>1.0           </td><td>349909.0     </td><td>21.075       </td><td>       </td><td>S         </td></tr>\n",
       "<tr><td>2      </td><td>9.0          </td><td>1         </td><td>3       </td><td>Johnson, Mrs. Oscar W (Elisabeth Vilhelmina Berg)      </td><td>female</td><td>27.0         </td><td>0.0           </td><td>2.0           </td><td>347742.0     </td><td>11.1333      </td><td>       </td><td>S         </td></tr>\n",
       "<tr><td>3      </td><td>10.0         </td><td>1         </td><td>2       </td><td>Nasser, Mrs. Nicholas (Adele Achem)                    </td><td>female</td><td>14.0         </td><td>1.0           </td><td>0.0           </td><td>237736.0     </td><td>30.0708      </td><td>       </td><td>C         </td></tr>\n",
       "<tr><td>4      </td><td>12.0         </td><td>1         </td><td>1       </td><td>Bonnell, Miss. Elizabeth                               </td><td>female</td><td>58.0         </td><td>0.0           </td><td>0.0           </td><td>113783.0     </td><td>26.55        </td><td>C103   </td><td>S         </td></tr>\n",
       "<tr><td>5      </td><td>13.0         </td><td>0         </td><td>3       </td><td>Saundercock, Mr. William Henry                         </td><td>male  </td><td>20.0         </td><td>0.0           </td><td>0.0           </td><td>nan          </td><td>8.05         </td><td>       </td><td>S         </td></tr>\n",
       "<tr><td>6      </td><td>14.0         </td><td>0         </td><td>3       </td><td>Andersson, Mr. Anders Johan                            </td><td>male  </td><td>39.0         </td><td>1.0           </td><td>5.0           </td><td>347082.0     </td><td>31.275       </td><td>       </td><td>S         </td></tr>\n",
       "<tr><td>7      </td><td>19.0         </td><td>0         </td><td>3       </td><td>Vander Planke, Mrs. Julius (Emelia Maria Vandemoortele)</td><td>female</td><td>31.0         </td><td>1.0           </td><td>0.0           </td><td>345763.0     </td><td>18.0         </td><td>       </td><td>S         </td></tr>\n",
       "<tr><td>8      </td><td>21.0         </td><td>0         </td><td>2       </td><td>Fynney, Mr. Joseph J                                   </td><td>male  </td><td>35.0         </td><td>0.0           </td><td>0.0           </td><td>239865.0     </td><td>26.0         </td><td>       </td><td>S         </td></tr>\n",
       "<tr><td>9      </td><td>22.0         </td><td>1         </td><td>2       </td><td>Beesley, Mr. Lawrence                                  </td><td>male  </td><td>34.0         </td><td>0.0           </td><td>0.0           </td><td>248698.0     </td><td>13.0         </td><td>D56    </td><td>S         </td></tr>\n",
       "</tbody>\n",
       "</table>"
      ]
     },
     "metadata": {},
     "output_type": "display_data"
    }
   ],
   "source": [
    "train.summary()"
   ]
  },
  {
   "cell_type": "code",
   "execution_count": 9,
   "metadata": {},
   "outputs": [
    {
     "name": "stdout",
     "output_type": "stream",
     "text": [
      "AutoML progress: |████████████████████████████████████████████████████████| 100%\n"
     ]
    }
   ],
   "source": [
    "# Run AutoML for 60 seconds\n",
    "aml = H2OAutoML(max_runtime_secs = 60)\n",
    "aml.train(x = x, y = y, training_frame = train, validation_frame = test)"
   ]
  },
  {
   "cell_type": "markdown",
   "metadata": {},
   "source": [
    "## View the AutoML Leaderboard"
   ]
  },
  {
   "cell_type": "code",
   "execution_count": 10,
   "metadata": {},
   "outputs": [
    {
     "data": {
      "text/html": [
       "<table>\n",
       "<thead>\n",
       "<tr><th>model_id                                           </th><th style=\"text-align: right;\">     auc</th><th style=\"text-align: right;\">  logloss</th><th style=\"text-align: right;\">   aucpr</th><th style=\"text-align: right;\">  mean_per_class_error</th><th style=\"text-align: right;\">    rmse</th><th style=\"text-align: right;\">     mse</th></tr>\n",
       "</thead>\n",
       "<tbody>\n",
       "<tr><td>XGBoost_grid__1_AutoML_20200217_190131_model_7     </td><td style=\"text-align: right;\">0.864299</td><td style=\"text-align: right;\"> 0.469127</td><td style=\"text-align: right;\">0.795421</td><td style=\"text-align: right;\">              0.207729</td><td style=\"text-align: right;\">0.383625</td><td style=\"text-align: right;\">0.147168</td></tr>\n",
       "<tr><td>XGBoost_grid__1_AutoML_20200217_190131_model_5     </td><td style=\"text-align: right;\">0.864219</td><td style=\"text-align: right;\"> 0.481677</td><td style=\"text-align: right;\">0.802079</td><td style=\"text-align: right;\">              0.210038</td><td style=\"text-align: right;\">0.39009 </td><td style=\"text-align: right;\">0.15217 </td></tr>\n",
       "<tr><td>XGBoost_3_AutoML_20200217_190131                   </td><td style=\"text-align: right;\">0.861369</td><td style=\"text-align: right;\"> 0.428127</td><td style=\"text-align: right;\">0.815677</td><td style=\"text-align: right;\">              0.189258</td><td style=\"text-align: right;\">0.365466</td><td style=\"text-align: right;\">0.133565</td></tr>\n",
       "<tr><td>GBM_2_AutoML_20200217_190131                       </td><td style=\"text-align: right;\">0.857657</td><td style=\"text-align: right;\"> 0.435284</td><td style=\"text-align: right;\">0.815037</td><td style=\"text-align: right;\">              0.186026</td><td style=\"text-align: right;\">0.366208</td><td style=\"text-align: right;\">0.134108</td></tr>\n",
       "<tr><td>XGBoost_1_AutoML_20200217_190131                   </td><td style=\"text-align: right;\">0.857515</td><td style=\"text-align: right;\"> 0.434905</td><td style=\"text-align: right;\">0.822706</td><td style=\"text-align: right;\">              0.210003</td><td style=\"text-align: right;\">0.370668</td><td style=\"text-align: right;\">0.137395</td></tr>\n",
       "<tr><td>GBM_grid__1_AutoML_20200217_190131_model_10        </td><td style=\"text-align: right;\">0.856955</td><td style=\"text-align: right;\"> 0.433823</td><td style=\"text-align: right;\">0.819815</td><td style=\"text-align: right;\">              0.196895</td><td style=\"text-align: right;\">0.367663</td><td style=\"text-align: right;\">0.135176</td></tr>\n",
       "<tr><td>GBM_grid__1_AutoML_20200217_190131_model_19        </td><td style=\"text-align: right;\">0.856511</td><td style=\"text-align: right;\"> 0.436855</td><td style=\"text-align: right;\">0.811137</td><td style=\"text-align: right;\">              0.195226</td><td style=\"text-align: right;\">0.368773</td><td style=\"text-align: right;\">0.135994</td></tr>\n",
       "<tr><td>StackedEnsemble_BestOfFamily_AutoML_20200217_190131</td><td style=\"text-align: right;\">0.854415</td><td style=\"text-align: right;\"> 0.434793</td><td style=\"text-align: right;\">0.813097</td><td style=\"text-align: right;\">              0.188193</td><td style=\"text-align: right;\">0.36844 </td><td style=\"text-align: right;\">0.135748</td></tr>\n",
       "<tr><td>GBM_grid__1_AutoML_20200217_190131_model_31        </td><td style=\"text-align: right;\">0.853581</td><td style=\"text-align: right;\"> 0.539082</td><td style=\"text-align: right;\">0.794133</td><td style=\"text-align: right;\">              0.188743</td><td style=\"text-align: right;\">0.420271</td><td style=\"text-align: right;\">0.176627</td></tr>\n",
       "<tr><td>XGBoost_grid__1_AutoML_20200217_190131_model_2     </td><td style=\"text-align: right;\">0.852861</td><td style=\"text-align: right;\"> 0.437903</td><td style=\"text-align: right;\">0.812019</td><td style=\"text-align: right;\">              0.196878</td><td style=\"text-align: right;\">0.36937 </td><td style=\"text-align: right;\">0.136434</td></tr>\n",
       "<tr><td>GBM_4_AutoML_20200217_190131                       </td><td style=\"text-align: right;\">0.851707</td><td style=\"text-align: right;\"> 0.443385</td><td style=\"text-align: right;\">0.81083 </td><td style=\"text-align: right;\">              0.186559</td><td style=\"text-align: right;\">0.36752 </td><td style=\"text-align: right;\">0.135071</td></tr>\n",
       "<tr><td>XRT_1_AutoML_20200217_190131                       </td><td style=\"text-align: right;\">0.851547</td><td style=\"text-align: right;\"> 0.45212 </td><td style=\"text-align: right;\">0.802287</td><td style=\"text-align: right;\">              0.196309</td><td style=\"text-align: right;\">0.372813</td><td style=\"text-align: right;\">0.138989</td></tr>\n",
       "<tr><td>XGBoost_grid__1_AutoML_20200217_190131_model_1     </td><td style=\"text-align: right;\">0.851503</td><td style=\"text-align: right;\"> 0.44015 </td><td style=\"text-align: right;\">0.805409</td><td style=\"text-align: right;\">              0.202881</td><td style=\"text-align: right;\">0.371745</td><td style=\"text-align: right;\">0.138194</td></tr>\n",
       "<tr><td>GBM_3_AutoML_20200217_190131                       </td><td style=\"text-align: right;\">0.850233</td><td style=\"text-align: right;\"> 0.450841</td><td style=\"text-align: right;\">0.793384</td><td style=\"text-align: right;\">              0.186008</td><td style=\"text-align: right;\">0.372614</td><td style=\"text-align: right;\">0.138841</td></tr>\n",
       "<tr><td>StackedEnsemble_AllModels_AutoML_20200217_190131   </td><td style=\"text-align: right;\">0.848723</td><td style=\"text-align: right;\"> 0.444342</td><td style=\"text-align: right;\">0.80489 </td><td style=\"text-align: right;\">              0.206682</td><td style=\"text-align: right;\">0.373766</td><td style=\"text-align: right;\">0.139701</td></tr>\n",
       "<tr><td>DRF_1_AutoML_20200217_190131                       </td><td style=\"text-align: right;\">0.847666</td><td style=\"text-align: right;\"> 0.592658</td><td style=\"text-align: right;\">0.782853</td><td style=\"text-align: right;\">              0.202295</td><td style=\"text-align: right;\">0.375886</td><td style=\"text-align: right;\">0.14129 </td></tr>\n",
       "<tr><td>GLM_1_AutoML_20200217_190131                       </td><td style=\"text-align: right;\">0.84557 </td><td style=\"text-align: right;\"> 0.453975</td><td style=\"text-align: right;\">0.797259</td><td style=\"text-align: right;\">              0.208227</td><td style=\"text-align: right;\">0.377447</td><td style=\"text-align: right;\">0.142466</td></tr>\n",
       "<tr><td>GBM_grid__1_AutoML_20200217_190131_model_23        </td><td style=\"text-align: right;\">0.843839</td><td style=\"text-align: right;\"> 0.458042</td><td style=\"text-align: right;\">0.799012</td><td style=\"text-align: right;\">              0.198494</td><td style=\"text-align: right;\">0.37482 </td><td style=\"text-align: right;\">0.14049 </td></tr>\n",
       "<tr><td>GBM_1_AutoML_20200217_190131                       </td><td style=\"text-align: right;\">0.843581</td><td style=\"text-align: right;\"> 0.459416</td><td style=\"text-align: right;\">0.803772</td><td style=\"text-align: right;\">              0.195297</td><td style=\"text-align: right;\">0.378501</td><td style=\"text-align: right;\">0.143263</td></tr>\n",
       "<tr><td>XGBoost_grid__1_AutoML_20200217_190131_model_8     </td><td style=\"text-align: right;\">0.840322</td><td style=\"text-align: right;\"> 0.456569</td><td style=\"text-align: right;\">0.798718</td><td style=\"text-align: right;\">              0.202863</td><td style=\"text-align: right;\">0.375024</td><td style=\"text-align: right;\">0.140643</td></tr>\n",
       "<tr><td>XGBoost_grid__1_AutoML_20200217_190131_model_4     </td><td style=\"text-align: right;\">0.840242</td><td style=\"text-align: right;\"> 0.511884</td><td style=\"text-align: right;\">0.779753</td><td style=\"text-align: right;\">              0.225757</td><td style=\"text-align: right;\">0.395941</td><td style=\"text-align: right;\">0.156769</td></tr>\n",
       "<tr><td>GBM_grid__1_AutoML_20200217_190131_model_2         </td><td style=\"text-align: right;\">0.839701</td><td style=\"text-align: right;\"> 0.614157</td><td style=\"text-align: right;\">0.790457</td><td style=\"text-align: right;\">              0.213786</td><td style=\"text-align: right;\">0.460374</td><td style=\"text-align: right;\">0.211944</td></tr>\n",
       "<tr><td>GBM_grid__1_AutoML_20200217_190131_model_30        </td><td style=\"text-align: right;\">0.838617</td><td style=\"text-align: right;\"> 0.51746 </td><td style=\"text-align: right;\">0.794799</td><td style=\"text-align: right;\">              0.20503 </td><td style=\"text-align: right;\">0.384543</td><td style=\"text-align: right;\">0.147874</td></tr>\n",
       "<tr><td>XGBoost_2_AutoML_20200217_190131                   </td><td style=\"text-align: right;\">0.838502</td><td style=\"text-align: right;\"> 0.461003</td><td style=\"text-align: right;\">0.802021</td><td style=\"text-align: right;\">              0.22192 </td><td style=\"text-align: right;\">0.382331</td><td style=\"text-align: right;\">0.146177</td></tr>\n",
       "<tr><td>DeepLearning_grid__2_AutoML_20200217_190131_model_1</td><td style=\"text-align: right;\">0.838253</td><td style=\"text-align: right;\"> 0.466646</td><td style=\"text-align: right;\">0.775643</td><td style=\"text-align: right;\">              0.217143</td><td style=\"text-align: right;\">0.382804</td><td style=\"text-align: right;\">0.146539</td></tr>\n",
       "<tr><td>XGBoost_grid__1_AutoML_20200217_190131_model_9     </td><td style=\"text-align: right;\">0.838244</td><td style=\"text-align: right;\"> 0.458213</td><td style=\"text-align: right;\">0.800936</td><td style=\"text-align: right;\">              0.218119</td><td style=\"text-align: right;\">0.380812</td><td style=\"text-align: right;\">0.145017</td></tr>\n",
       "<tr><td>GBM_grid__1_AutoML_20200217_190131_model_9         </td><td style=\"text-align: right;\">0.838182</td><td style=\"text-align: right;\"> 0.537685</td><td style=\"text-align: right;\">0.765332</td><td style=\"text-align: right;\">              0.218759</td><td style=\"text-align: right;\">0.405255</td><td style=\"text-align: right;\">0.164232</td></tr>\n",
       "<tr><td>XGBoost_grid__1_AutoML_20200217_190131_model_6     </td><td style=\"text-align: right;\">0.836441</td><td style=\"text-align: right;\"> 0.461551</td><td style=\"text-align: right;\">0.795072</td><td style=\"text-align: right;\">              0.201762</td><td style=\"text-align: right;\">0.378515</td><td style=\"text-align: right;\">0.143274</td></tr>\n",
       "<tr><td>GBM_grid__1_AutoML_20200217_190131_model_15        </td><td style=\"text-align: right;\">0.836006</td><td style=\"text-align: right;\"> 0.45885 </td><td style=\"text-align: right;\">0.800744</td><td style=\"text-align: right;\">              0.214265</td><td style=\"text-align: right;\">0.381195</td><td style=\"text-align: right;\">0.14531 </td></tr>\n",
       "<tr><td>DeepLearning_grid__1_AutoML_20200217_190131_model_3</td><td style=\"text-align: right;\">0.830767</td><td style=\"text-align: right;\"> 0.611536</td><td style=\"text-align: right;\">0.752301</td><td style=\"text-align: right;\">              0.237195</td><td style=\"text-align: right;\">0.417725</td><td style=\"text-align: right;\">0.174494</td></tr>\n",
       "<tr><td>GBM_grid__1_AutoML_20200217_190131_model_18        </td><td style=\"text-align: right;\">0.830429</td><td style=\"text-align: right;\"> 0.501956</td><td style=\"text-align: right;\">0.787572</td><td style=\"text-align: right;\">              0.221938</td><td style=\"text-align: right;\">0.401651</td><td style=\"text-align: right;\">0.161324</td></tr>\n",
       "<tr><td>GBM_grid__1_AutoML_20200217_190131_model_17        </td><td style=\"text-align: right;\">0.830065</td><td style=\"text-align: right;\"> 0.597846</td><td style=\"text-align: right;\">0.779067</td><td style=\"text-align: right;\">              0.206646</td><td style=\"text-align: right;\">0.400651</td><td style=\"text-align: right;\">0.160521</td></tr>\n",
       "<tr><td>XGBoost_grid__1_AutoML_20200217_190131_model_3     </td><td style=\"text-align: right;\">0.829426</td><td style=\"text-align: right;\"> 0.483793</td><td style=\"text-align: right;\">0.783277</td><td style=\"text-align: right;\">              0.230605</td><td style=\"text-align: right;\">0.393106</td><td style=\"text-align: right;\">0.154533</td></tr>\n",
       "<tr><td>GBM_grid__1_AutoML_20200217_190131_model_16        </td><td style=\"text-align: right;\">0.829266</td><td style=\"text-align: right;\"> 0.502493</td><td style=\"text-align: right;\">0.784005</td><td style=\"text-align: right;\">              0.231724</td><td style=\"text-align: right;\">0.40237 </td><td style=\"text-align: right;\">0.161902</td></tr>\n",
       "<tr><td>GBM_grid__1_AutoML_20200217_190131_model_11        </td><td style=\"text-align: right;\">0.829222</td><td style=\"text-align: right;\"> 0.714418</td><td style=\"text-align: right;\">0.757108</td><td style=\"text-align: right;\">              0.214887</td><td style=\"text-align: right;\">0.417839</td><td style=\"text-align: right;\">0.17459 </td></tr>\n",
       "<tr><td>GBM_grid__1_AutoML_20200217_190131_model_13        </td><td style=\"text-align: right;\">0.829   </td><td style=\"text-align: right;\"> 0.715218</td><td style=\"text-align: right;\">0.76331 </td><td style=\"text-align: right;\">              0.240462</td><td style=\"text-align: right;\">0.413609</td><td style=\"text-align: right;\">0.171072</td></tr>\n",
       "<tr><td>GBM_5_AutoML_20200217_190131                       </td><td style=\"text-align: right;\">0.828902</td><td style=\"text-align: right;\"> 0.475554</td><td style=\"text-align: right;\">0.772629</td><td style=\"text-align: right;\">              0.224655</td><td style=\"text-align: right;\">0.388831</td><td style=\"text-align: right;\">0.15119 </td></tr>\n",
       "<tr><td>DeepLearning_grid__3_AutoML_20200217_190131_model_1</td><td style=\"text-align: right;\">0.828831</td><td style=\"text-align: right;\"> 0.498015</td><td style=\"text-align: right;\">0.769006</td><td style=\"text-align: right;\">              0.214852</td><td style=\"text-align: right;\">0.392647</td><td style=\"text-align: right;\">0.154172</td></tr>\n",
       "<tr><td>DeepLearning_grid__1_AutoML_20200217_190131_model_1</td><td style=\"text-align: right;\">0.828591</td><td style=\"text-align: right;\"> 0.61433 </td><td style=\"text-align: right;\">0.71301 </td><td style=\"text-align: right;\">              0.21542 </td><td style=\"text-align: right;\">0.40946 </td><td style=\"text-align: right;\">0.167658</td></tr>\n",
       "<tr><td>GBM_grid__1_AutoML_20200217_190131_model_6         </td><td style=\"text-align: right;\">0.827472</td><td style=\"text-align: right;\"> 0.478954</td><td style=\"text-align: right;\">0.744653</td><td style=\"text-align: right;\">              0.231138</td><td style=\"text-align: right;\">0.390754</td><td style=\"text-align: right;\">0.152689</td></tr>\n",
       "<tr><td>GBM_grid__1_AutoML_20200217_190131_model_7         </td><td style=\"text-align: right;\">0.826522</td><td style=\"text-align: right;\"> 0.62788 </td><td style=\"text-align: right;\">0.766122</td><td style=\"text-align: right;\">              0.241084</td><td style=\"text-align: right;\">0.467422</td><td style=\"text-align: right;\">0.218483</td></tr>\n",
       "<tr><td>GBM_grid__1_AutoML_20200217_190131_model_24        </td><td style=\"text-align: right;\">0.825838</td><td style=\"text-align: right;\"> 0.517988</td><td style=\"text-align: right;\">0.750513</td><td style=\"text-align: right;\">              0.225206</td><td style=\"text-align: right;\">0.410134</td><td style=\"text-align: right;\">0.16821 </td></tr>\n",
       "<tr><td>GBM_grid__1_AutoML_20200217_190131_model_3         </td><td style=\"text-align: right;\">0.825829</td><td style=\"text-align: right;\"> 0.621357</td><td style=\"text-align: right;\">0.743709</td><td style=\"text-align: right;\">              0.228403</td><td style=\"text-align: right;\">0.46411 </td><td style=\"text-align: right;\">0.215398</td></tr>\n",
       "<tr><td>DeepLearning_grid__1_AutoML_20200217_190131_model_2</td><td style=\"text-align: right;\">0.824773</td><td style=\"text-align: right;\"> 0.518541</td><td style=\"text-align: right;\">0.769934</td><td style=\"text-align: right;\">              0.211619</td><td style=\"text-align: right;\">0.394631</td><td style=\"text-align: right;\">0.155733</td></tr>\n",
       "<tr><td>GBM_grid__1_AutoML_20200217_190131_model_28        </td><td style=\"text-align: right;\">0.824346</td><td style=\"text-align: right;\"> 0.508028</td><td style=\"text-align: right;\">0.774031</td><td style=\"text-align: right;\">              0.22906 </td><td style=\"text-align: right;\">0.404699</td><td style=\"text-align: right;\">0.163781</td></tr>\n",
       "<tr><td>DeepLearning_1_AutoML_20200217_190131              </td><td style=\"text-align: right;\">0.823334</td><td style=\"text-align: right;\"> 0.504341</td><td style=\"text-align: right;\">0.740794</td><td style=\"text-align: right;\">              0.21494 </td><td style=\"text-align: right;\">0.39506 </td><td style=\"text-align: right;\">0.156072</td></tr>\n",
       "<tr><td>GBM_grid__1_AutoML_20200217_190131_model_29        </td><td style=\"text-align: right;\">0.823148</td><td style=\"text-align: right;\"> 1.08935 </td><td style=\"text-align: right;\">0.718895</td><td style=\"text-align: right;\">              0.236537</td><td style=\"text-align: right;\">0.444079</td><td style=\"text-align: right;\">0.197206</td></tr>\n",
       "<tr><td>GBM_grid__1_AutoML_20200217_190131_model_26        </td><td style=\"text-align: right;\">0.822126</td><td style=\"text-align: right;\"> 0.62164 </td><td style=\"text-align: right;\">0.757711</td><td style=\"text-align: right;\">              0.218173</td><td style=\"text-align: right;\">0.464216</td><td style=\"text-align: right;\">0.215496</td></tr>\n",
       "<tr><td>GBM_grid__1_AutoML_20200217_190131_model_22        </td><td style=\"text-align: right;\">0.819773</td><td style=\"text-align: right;\"> 0.618535</td><td style=\"text-align: right;\">0.720672</td><td style=\"text-align: right;\">              0.228421</td><td style=\"text-align: right;\">0.462639</td><td style=\"text-align: right;\">0.214035</td></tr>\n",
       "<tr><td>GBM_grid__1_AutoML_20200217_190131_model_25        </td><td style=\"text-align: right;\">0.816407</td><td style=\"text-align: right;\"> 0.616168</td><td style=\"text-align: right;\">0.685446</td><td style=\"text-align: right;\">              0.230605</td><td style=\"text-align: right;\">0.461385</td><td style=\"text-align: right;\">0.212876</td></tr>\n",
       "<tr><td>GBM_grid__1_AutoML_20200217_190131_model_4         </td><td style=\"text-align: right;\">0.812216</td><td style=\"text-align: right;\"> 0.626584</td><td style=\"text-align: right;\">0.727648</td><td style=\"text-align: right;\">              0.253588</td><td style=\"text-align: right;\">0.466764</td><td style=\"text-align: right;\">0.217869</td></tr>\n",
       "<tr><td>GBM_grid__1_AutoML_20200217_190131_model_27        </td><td style=\"text-align: right;\">0.808015</td><td style=\"text-align: right;\"> 0.550259</td><td style=\"text-align: right;\">0.602835</td><td style=\"text-align: right;\">              0.226787</td><td style=\"text-align: right;\">0.414301</td><td style=\"text-align: right;\">0.171645</td></tr>\n",
       "<tr><td>GBM_grid__1_AutoML_20200217_190131_model_14        </td><td style=\"text-align: right;\">0.805955</td><td style=\"text-align: right;\"> 0.639277</td><td style=\"text-align: right;\">0.726135</td><td style=\"text-align: right;\">              0.238313</td><td style=\"text-align: right;\">0.473154</td><td style=\"text-align: right;\">0.223875</td></tr>\n",
       "<tr><td>DeepLearning_grid__3_AutoML_20200217_190131_model_2</td><td style=\"text-align: right;\">0.794748</td><td style=\"text-align: right;\"> 0.585225</td><td style=\"text-align: right;\">0.689701</td><td style=\"text-align: right;\">              0.248579</td><td style=\"text-align: right;\">0.416733</td><td style=\"text-align: right;\">0.173666</td></tr>\n",
       "<tr><td>GBM_grid__1_AutoML_20200217_190131_model_12        </td><td style=\"text-align: right;\">0.790139</td><td style=\"text-align: right;\"> 0.627519</td><td style=\"text-align: right;\">0.696828</td><td style=\"text-align: right;\">              0.250781</td><td style=\"text-align: right;\">0.467263</td><td style=\"text-align: right;\">0.218335</td></tr>\n",
       "<tr><td>DeepLearning_grid__2_AutoML_20200217_190131_model_2</td><td style=\"text-align: right;\">0.788567</td><td style=\"text-align: right;\"> 0.807762</td><td style=\"text-align: right;\">0.695954</td><td style=\"text-align: right;\">              0.289038</td><td style=\"text-align: right;\">0.467424</td><td style=\"text-align: right;\">0.218485</td></tr>\n",
       "<tr><td>GBM_grid__1_AutoML_20200217_190131_model_8         </td><td style=\"text-align: right;\">0.785539</td><td style=\"text-align: right;\"> 2.50133 </td><td style=\"text-align: right;\">0.62661 </td><td style=\"text-align: right;\">              0.239876</td><td style=\"text-align: right;\">0.457661</td><td style=\"text-align: right;\">0.209454</td></tr>\n",
       "<tr><td>GBM_grid__1_AutoML_20200217_190131_model_5         </td><td style=\"text-align: right;\">0.774474</td><td style=\"text-align: right;\"> 0.650581</td><td style=\"text-align: right;\">0.684595</td><td style=\"text-align: right;\">              0.27863 </td><td style=\"text-align: right;\">0.478762</td><td style=\"text-align: right;\">0.229213</td></tr>\n",
       "<tr><td>GBM_grid__1_AutoML_20200217_190131_model_32        </td><td style=\"text-align: right;\">0.771144</td><td style=\"text-align: right;\"> 0.565209</td><td style=\"text-align: right;\">0.657521</td><td style=\"text-align: right;\">              0.262273</td><td style=\"text-align: right;\">0.427973</td><td style=\"text-align: right;\">0.183161</td></tr>\n",
       "<tr><td>GBM_grid__1_AutoML_20200217_190131_model_1         </td><td style=\"text-align: right;\">0.669437</td><td style=\"text-align: right;\"> 0.657111</td><td style=\"text-align: right;\">0.52424 </td><td style=\"text-align: right;\">              0.352817</td><td style=\"text-align: right;\">0.481966</td><td style=\"text-align: right;\">0.232291</td></tr>\n",
       "<tr><td>GBM_grid__1_AutoML_20200217_190131_model_20        </td><td style=\"text-align: right;\">0.657245</td><td style=\"text-align: right;\"> 0.657539</td><td style=\"text-align: right;\">0.523194</td><td style=\"text-align: right;\">              0.382282</td><td style=\"text-align: right;\">0.482174</td><td style=\"text-align: right;\">0.232491</td></tr>\n",
       "<tr><td>GBM_grid__1_AutoML_20200217_190131_model_21        </td><td style=\"text-align: right;\">0.629884</td><td style=\"text-align: right;\">11.5979  </td><td style=\"text-align: right;\">0.208643</td><td style=\"text-align: right;\">              0.359619</td><td style=\"text-align: right;\">0.592551</td><td style=\"text-align: right;\">0.351116</td></tr>\n",
       "</tbody>\n",
       "</table>"
      ]
     },
     "metadata": {},
     "output_type": "display_data"
    },
    {
     "data": {
      "text/plain": []
     },
     "execution_count": 10,
     "metadata": {},
     "output_type": "execute_result"
    }
   ],
   "source": [
    "lb = aml.leaderboard\n",
    "lb.head(rows=lb.nrows)"
   ]
  },
  {
   "cell_type": "code",
   "execution_count": 11,
   "metadata": {},
   "outputs": [
    {
     "name": "stdout",
     "output_type": "stream",
     "text": [
      "xgboost prediction progress: |████████████████████████████████████████████| 100%\n"
     ]
    }
   ],
   "source": [
    "# To generate predictions on a test set, use the leader model object directly:\n",
    "preds = aml.leader.predict(test)"
   ]
  },
  {
   "cell_type": "code",
   "execution_count": 12,
   "metadata": {},
   "outputs": [
    {
     "data": {
      "text/html": [
       "<table>\n",
       "<thead>\n",
       "<tr><th style=\"text-align: right;\">  predict</th><th style=\"text-align: right;\">      p0</th><th style=\"text-align: right;\">      p1</th></tr>\n",
       "</thead>\n",
       "<tbody>\n",
       "<tr><td style=\"text-align: right;\">        1</td><td style=\"text-align: right;\">0.235575</td><td style=\"text-align: right;\">0.764425</td></tr>\n",
       "<tr><td style=\"text-align: right;\">        1</td><td style=\"text-align: right;\">0.443806</td><td style=\"text-align: right;\">0.556194</td></tr>\n",
       "<tr><td style=\"text-align: right;\">        1</td><td style=\"text-align: right;\">0.235575</td><td style=\"text-align: right;\">0.764425</td></tr>\n",
       "<tr><td style=\"text-align: right;\">        0</td><td style=\"text-align: right;\">0.82347 </td><td style=\"text-align: right;\">0.17653 </td></tr>\n",
       "<tr><td style=\"text-align: right;\">        0</td><td style=\"text-align: right;\">0.708744</td><td style=\"text-align: right;\">0.291256</td></tr>\n",
       "<tr><td style=\"text-align: right;\">        1</td><td style=\"text-align: right;\">0.576541</td><td style=\"text-align: right;\">0.423459</td></tr>\n",
       "<tr><td style=\"text-align: right;\">        1</td><td style=\"text-align: right;\">0.447101</td><td style=\"text-align: right;\">0.552899</td></tr>\n",
       "<tr><td style=\"text-align: right;\">        1</td><td style=\"text-align: right;\">0.244355</td><td style=\"text-align: right;\">0.755645</td></tr>\n",
       "<tr><td style=\"text-align: right;\">        1</td><td style=\"text-align: right;\">0.587614</td><td style=\"text-align: right;\">0.412386</td></tr>\n",
       "<tr><td style=\"text-align: right;\">        1</td><td style=\"text-align: right;\">0.491879</td><td style=\"text-align: right;\">0.508121</td></tr>\n",
       "</tbody>\n",
       "</table>"
      ]
     },
     "metadata": {},
     "output_type": "display_data"
    },
    {
     "data": {
      "text/plain": []
     },
     "execution_count": 12,
     "metadata": {},
     "output_type": "execute_result"
    }
   ],
   "source": [
    "preds"
   ]
  },
  {
   "cell_type": "markdown",
   "metadata": {},
   "source": [
    "### save the model"
   ]
  },
  {
   "cell_type": "code",
   "execution_count": 13,
   "metadata": {},
   "outputs": [
    {
     "data": {
      "text/plain": [
       "u'/Users/lars/h2o/XGBoost_grid__1_AutoML_20200217_190131_model_7.zip'"
      ]
     },
     "execution_count": 13,
     "metadata": {},
     "output_type": "execute_result"
    }
   ],
   "source": [
    "model_id = aml.leader.model_id\n",
    "aml.download_mojo(genmodel_name=model_id, path=\"./\"+model_id+\".zip\")"
   ]
  },
  {
   "cell_type": "markdown",
   "metadata": {},
   "source": [
    "### show parameters"
   ]
  },
  {
   "cell_type": "code",
   "execution_count": 14,
   "metadata": {},
   "outputs": [
    {
     "data": {
      "text/plain": [
       "{u'backend': {u'actual': u'auto', u'default': u'auto'},\n",
       " u'booster': {u'actual': u'gbtree', u'default': u'gbtree'},\n",
       " u'calibrate_model': {u'actual': False, u'default': False},\n",
       " u'calibration_frame': {u'actual': None, u'default': None},\n",
       " u'categorical_encoding': {u'actual': u'AUTO', u'default': u'AUTO'},\n",
       " u'checkpoint': {u'actual': None, u'default': None},\n",
       " u'col_sample_rate': {u'actual': 1.0, u'default': 1.0},\n",
       " u'col_sample_rate_per_tree': {u'actual': 0.9, u'default': 1.0},\n",
       " u'colsample_bylevel': {u'actual': 1.0, u'default': 1.0},\n",
       " u'colsample_bytree': {u'actual': 1.0, u'default': 1.0},\n",
       " u'distribution': {u'actual': u'bernoulli', u'default': u'AUTO'},\n",
       " u'dmatrix_type': {u'actual': u'auto', u'default': u'auto'},\n",
       " u'eta': {u'actual': 0.3, u'default': 0.3},\n",
       " u'export_checkpoints_dir': {u'actual': None, u'default': None},\n",
       " u'fold_assignment': {u'actual': u'Modulo', u'default': u'AUTO'},\n",
       " u'fold_column': {u'actual': None, u'default': None},\n",
       " u'gamma': {u'actual': 0.0, u'default': 0.0},\n",
       " u'gpu_id': {u'actual': 0, u'default': 0},\n",
       " u'grow_policy': {u'actual': u'depthwise', u'default': u'depthwise'},\n",
       " u'ignore_const_cols': {u'actual': True, u'default': True},\n",
       " u'ignored_columns': {u'actual': [u'Cabin',\n",
       "   u'Ticket',\n",
       "   u'PassengerId',\n",
       "   u'Name'],\n",
       "  u'default': None},\n",
       " u'keep_cross_validation_fold_assignment': {u'actual': False,\n",
       "  u'default': False},\n",
       " u'keep_cross_validation_models': {u'actual': False, u'default': True},\n",
       " u'keep_cross_validation_predictions': {u'actual': True, u'default': False},\n",
       " u'learn_rate': {u'actual': 0.05, u'default': 0.3},\n",
       " u'max_abs_leafnode_pred': {u'actual': 0.0, u'default': 0.0},\n",
       " u'max_bins': {u'actual': 256, u'default': 256},\n",
       " u'max_delta_step': {u'actual': 0.0, u'default': 0.0},\n",
       " u'max_depth': {u'actual': 5, u'default': 6},\n",
       " u'max_leaves': {u'actual': 0, u'default': 0},\n",
       " u'max_runtime_secs': {u'actual': 0.0, u'default': 0.0},\n",
       " u'min_child_weight': {u'actual': 1.0, u'default': 1.0},\n",
       " u'min_data_in_leaf': {u'actual': 0.0, u'default': 0.0},\n",
       " u'min_rows': {u'actual': 5.0, u'default': 1.0},\n",
       " u'min_split_improvement': {u'actual': 0.0, u'default': 0.0},\n",
       " u'min_sum_hessian_in_leaf': {u'actual': 100.0, u'default': 100.0},\n",
       " u'model_id': {u'actual': {u'URL': u'/3/Models/XGBoost_grid__1_AutoML_20200217_190131_model_7',\n",
       "   u'__meta': {u'schema_name': u'ModelKeyV3',\n",
       "    u'schema_type': u'Key<Model>',\n",
       "    u'schema_version': 3},\n",
       "   u'name': u'XGBoost_grid__1_AutoML_20200217_190131_model_7',\n",
       "   u'type': u'Key<Model>'},\n",
       "  u'default': None},\n",
       " u'monotone_constraints': {u'actual': None, u'default': None},\n",
       " u'nfolds': {u'actual': 5, u'default': 0},\n",
       " u'normalize_type': {u'actual': u'tree', u'default': u'tree'},\n",
       " u'nthread': {u'actual': -1, u'default': -1},\n",
       " u'ntrees': {u'actual': 106, u'default': 50},\n",
       " u'offset_column': {u'actual': None, u'default': None},\n",
       " u'one_drop': {u'actual': False, u'default': False},\n",
       " u'quiet_mode': {u'actual': True, u'default': True},\n",
       " u'rate_drop': {u'actual': 0.0, u'default': 0.0},\n",
       " u'reg_alpha': {u'actual': 0.1, u'default': 0.0},\n",
       " u'reg_lambda': {u'actual': 100.0, u'default': 1.0},\n",
       " u'response_column': {u'actual': {u'__meta': {u'schema_name': u'ColSpecifierV3',\n",
       "    u'schema_type': u'VecSpecifier',\n",
       "    u'schema_version': 3},\n",
       "   u'column_name': u'Survived',\n",
       "   u'is_member_of_frames': None},\n",
       "  u'default': None},\n",
       " u'sample_rate': {u'actual': 1.0, u'default': 1.0},\n",
       " u'sample_type': {u'actual': u'uniform', u'default': u'uniform'},\n",
       " u'save_matrix_directory': {u'actual': None, u'default': None},\n",
       " u'score_each_iteration': {u'actual': False, u'default': False},\n",
       " u'score_tree_interval': {u'actual': 5, u'default': 0},\n",
       " u'seed': {u'actual': 2058108092155818492, u'default': -1},\n",
       " u'skip_drop': {u'actual': 0.0, u'default': 0.0},\n",
       " u'stopping_metric': {u'actual': u'logloss', u'default': u'AUTO'},\n",
       " u'stopping_rounds': {u'actual': 0, u'default': 0},\n",
       " u'stopping_tolerance': {u'actual': 0.045175395145262566, u'default': 0.001},\n",
       " u'subsample': {u'actual': 1.0, u'default': 1.0},\n",
       " u'training_frame': {u'actual': {u'URL': u'/3/Frames/automl_training_py_11_sid_b9d0',\n",
       "   u'__meta': {u'schema_name': u'FrameKeyV3',\n",
       "    u'schema_type': u'Key<Frame>',\n",
       "    u'schema_version': 3},\n",
       "   u'name': u'automl_training_py_11_sid_b9d0',\n",
       "   u'type': u'Key<Frame>'},\n",
       "  u'default': None},\n",
       " u'tree_method': {u'actual': u'auto', u'default': u'auto'},\n",
       " u'tweedie_power': {u'actual': 1.5, u'default': 1.5},\n",
       " u'validation_frame': {u'actual': {u'URL': u'/3/Frames/py_13_sid_b9d0',\n",
       "   u'__meta': {u'schema_name': u'FrameKeyV3',\n",
       "    u'schema_type': u'Key<Frame>',\n",
       "    u'schema_version': 3},\n",
       "   u'name': u'py_13_sid_b9d0',\n",
       "   u'type': u'Key<Frame>'},\n",
       "  u'default': None},\n",
       " u'weights_column': {u'actual': None, u'default': None}}"
      ]
     },
     "execution_count": 14,
     "metadata": {},
     "output_type": "execute_result"
    }
   ],
   "source": [
    "aml.leader.params"
   ]
  },
  {
   "cell_type": "code",
   "execution_count": null,
   "metadata": {},
   "outputs": [],
   "source": []
  }
 ],
 "metadata": {
  "kernelspec": {
   "display_name": "Python 3",
   "language": "python",
   "name": "python3"
  },
  "language_info": {
   "codemirror_mode": {
    "name": "ipython",
    "version": 2
   },
   "file_extension": ".py",
   "mimetype": "text/x-python",
   "name": "python",
   "nbconvert_exporter": "python",
   "pygments_lexer": "ipython2",
   "version": "2.7.17"
  }
 },
 "nbformat": 4,
 "nbformat_minor": 2
}
