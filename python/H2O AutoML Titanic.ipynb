{
 "cells": [
  {
   "cell_type": "code",
   "execution_count": 1,
   "metadata": {},
   "outputs": [],
   "source": [
    "### https://dzone.com/articles/h2o-automl-examples-in-python-and-scala\n",
    "\n",
    "### see also: http://docs.h2o.ai/h2o/latest-stable/h2o-docs/automl.html"
   ]
  },
  {
   "cell_type": "code",
   "execution_count": 2,
   "metadata": {},
   "outputs": [
    {
     "name": "stdout",
     "output_type": "stream",
     "text": [
      "Checking whether there is an H2O instance running at http://localhost:54321 . connected.\n"
     ]
    },
    {
     "data": {
      "text/html": [
       "<div style=\"overflow:auto\"><table style=\"width:50%\"><tr><td>H2O cluster uptime:</td>\n",
       "<td>2 days 7 hours 6 mins</td></tr>\n",
       "<tr><td>H2O cluster timezone:</td>\n",
       "<td>Europe/Berlin</td></tr>\n",
       "<tr><td>H2O data parsing timezone:</td>\n",
       "<td>UTC</td></tr>\n",
       "<tr><td>H2O cluster version:</td>\n",
       "<td>3.28.0.1</td></tr>\n",
       "<tr><td>H2O cluster version age:</td>\n",
       "<td>2 months </td></tr>\n",
       "<tr><td>H2O cluster name:</td>\n",
       "<td>lars</td></tr>\n",
       "<tr><td>H2O cluster total nodes:</td>\n",
       "<td>1</td></tr>\n",
       "<tr><td>H2O cluster free memory:</td>\n",
       "<td>3.351 Gb</td></tr>\n",
       "<tr><td>H2O cluster total cores:</td>\n",
       "<td>8</td></tr>\n",
       "<tr><td>H2O cluster allowed cores:</td>\n",
       "<td>8</td></tr>\n",
       "<tr><td>H2O cluster status:</td>\n",
       "<td>locked, healthy</td></tr>\n",
       "<tr><td>H2O connection url:</td>\n",
       "<td>http://localhost:54321</td></tr>\n",
       "<tr><td>H2O connection proxy:</td>\n",
       "<td>{u'http': None, u'https': None}</td></tr>\n",
       "<tr><td>H2O internal security:</td>\n",
       "<td>False</td></tr>\n",
       "<tr><td>H2O API Extensions:</td>\n",
       "<td>Amazon S3, XGBoost, Algos, AutoML, Core V3, TargetEncoder, Core V4</td></tr>\n",
       "<tr><td>Python version:</td>\n",
       "<td>2.7.17 final</td></tr></table></div>"
      ],
      "text/plain": [
       "--------------------------  ------------------------------------------------------------------\n",
       "H2O cluster uptime:         2 days 7 hours 6 mins\n",
       "H2O cluster timezone:       Europe/Berlin\n",
       "H2O data parsing timezone:  UTC\n",
       "H2O cluster version:        3.28.0.1\n",
       "H2O cluster version age:    2 months\n",
       "H2O cluster name:           lars\n",
       "H2O cluster total nodes:    1\n",
       "H2O cluster free memory:    3.351 Gb\n",
       "H2O cluster total cores:    8\n",
       "H2O cluster allowed cores:  8\n",
       "H2O cluster status:         locked, healthy\n",
       "H2O connection url:         http://localhost:54321\n",
       "H2O connection proxy:       {u'http': None, u'https': None}\n",
       "H2O internal security:      False\n",
       "H2O API Extensions:         Amazon S3, XGBoost, Algos, AutoML, Core V3, TargetEncoder, Core V4\n",
       "Python version:             2.7.17 final\n",
       "--------------------------  ------------------------------------------------------------------"
      ]
     },
     "metadata": {},
     "output_type": "display_data"
    }
   ],
   "source": [
    "import h2o\n",
    "from h2o.automl import H2OAutoML\n",
    "\n",
    "h2o.init()"
   ]
  },
  {
   "cell_type": "code",
   "execution_count": 3,
   "metadata": {},
   "outputs": [
    {
     "name": "stdout",
     "output_type": "stream",
     "text": [
      "Parse progress: |█████████████████████████████████████████████████████████| 100%\n"
     ]
    }
   ],
   "source": [
    "#df = h2o.import_file(\"./dai/data/train.csv\")\n",
    "df = h2o.import_file(\"https://raw.githubusercontent.com/choas/h2o-titanic/master/data/train.csv\")"
   ]
  },
  {
   "cell_type": "code",
   "execution_count": 4,
   "metadata": {},
   "outputs": [],
   "source": [
    "not_empty_embarked = ~df[\"Embarked\"].isna()\n",
    "df_e = df[not_empty_embarked]\n",
    "not_empty_age = df_e[\"Age\"] >= 0\n",
    "df = df_e[not_empty_age]"
   ]
  },
  {
   "cell_type": "code",
   "execution_count": 5,
   "metadata": {},
   "outputs": [],
   "source": [
    "# filter unknown Age and split 70% train and 30% test\n",
    "train, test = df[df[\"Age\"] >= 0].split_frame(ratios=[.7])"
   ]
  },
  {
   "cell_type": "code",
   "execution_count": 6,
   "metadata": {},
   "outputs": [],
   "source": [
    "# Identify predictors and response\n",
    "x = train.columns\n",
    "y = \"Survived\"\n",
    "x.remove(y)\n",
    "\n",
    "# remove some columns\n",
    "x.remove(\"PassengerId\")\n",
    "x.remove(\"Name\")\n",
    "#x.remove(\"SibSp\")\n",
    "#x.remove(\"Parch\")\n",
    "x.remove(\"Ticket\")\n",
    "#x.remove(\"Fare\")\n",
    "x.remove(\"Cabin\")"
   ]
  },
  {
   "cell_type": "code",
   "execution_count": 7,
   "metadata": {},
   "outputs": [],
   "source": [
    "# For binary classification, response should be a factor\n",
    "train[y] = train[y].asfactor()\n",
    "test[y] = test[y].asfactor()\n",
    "\n",
    "train[\"Pclass\"] = train[\"Pclass\"].asfactor()\n",
    "test[\"Pclass\"] = test[\"Pclass\"].asfactor()"
   ]
  },
  {
   "cell_type": "code",
   "execution_count": 8,
   "metadata": {},
   "outputs": [
    {
     "data": {
      "text/html": [
       "<table>\n",
       "<thead>\n",
       "<tr><th>       </th><th>PassengerId  </th><th>Survived  </th><th>Pclass  </th><th>Name                                               </th><th>Sex   </th><th>Age          </th><th>SibSp         </th><th>Parch         </th><th>Ticket       </th><th>Fare         </th><th>Cabin  </th><th>Embarked  </th></tr>\n",
       "</thead>\n",
       "<tbody>\n",
       "<tr><td>type   </td><td>int          </td><td>enum      </td><td>enum    </td><td>string                                             </td><td>enum  </td><td>real         </td><td>int           </td><td>int           </td><td>int          </td><td>real         </td><td>enum   </td><td>enum      </td></tr>\n",
       "<tr><td>mins   </td><td>1.0          </td><td>          </td><td>        </td><td>NaN                                                </td><td>      </td><td>0.42         </td><td>0.0           </td><td>0.0           </td><td>693.0        </td><td>0.0          </td><td>       </td><td>          </td></tr>\n",
       "<tr><td>mean   </td><td>448.439121756</td><td>          </td><td>        </td><td>NaN                                                </td><td>      </td><td>29.4833732535</td><td>0.463073852295</td><td>0.433133732535</td><td>283303.121212</td><td>35.0982197605</td><td>       </td><td>          </td></tr>\n",
       "<tr><td>maxs   </td><td>891.0        </td><td>          </td><td>        </td><td>NaN                                                </td><td>      </td><td>80.0         </td><td>5.0           </td><td>6.0           </td><td>3101298.0    </td><td>512.3292     </td><td>       </td><td>          </td></tr>\n",
       "<tr><td>sigma  </td><td>257.790990507</td><td>          </td><td>        </td><td>NaN                                                </td><td>      </td><td>14.3468589593</td><td>0.851547845124</td><td>0.854412055205</td><td>541379.835055</td><td>55.4385984067</td><td>       </td><td>          </td></tr>\n",
       "<tr><td>zeros  </td><td>0            </td><td>          </td><td>        </td><td>0                                                  </td><td>      </td><td>0            </td><td>337           </td><td>362           </td><td>0            </td><td>6            </td><td>       </td><td>          </td></tr>\n",
       "<tr><td>missing</td><td>0            </td><td>0         </td><td>0       </td><td>0                                                  </td><td>0     </td><td>0            </td><td>0             </td><td>0             </td><td>138          </td><td>0            </td><td>361    </td><td>0         </td></tr>\n",
       "<tr><td>0      </td><td>1.0          </td><td>0         </td><td>3       </td><td>Braund, Mr. Owen Harris                            </td><td>male  </td><td>22.0         </td><td>1.0           </td><td>0.0           </td><td>nan          </td><td>7.25         </td><td>       </td><td>S         </td></tr>\n",
       "<tr><td>1      </td><td>2.0          </td><td>1         </td><td>1       </td><td>Cumings, Mrs. John Bradley (Florence Briggs Thayer)</td><td>female</td><td>38.0         </td><td>1.0           </td><td>0.0           </td><td>nan          </td><td>71.2833      </td><td>C85    </td><td>C         </td></tr>\n",
       "<tr><td>2      </td><td>3.0          </td><td>1         </td><td>3       </td><td>Heikkinen, Miss. Laina                             </td><td>female</td><td>26.0         </td><td>0.0           </td><td>0.0           </td><td>nan          </td><td>7.925        </td><td>       </td><td>S         </td></tr>\n",
       "<tr><td>3      </td><td>4.0          </td><td>1         </td><td>1       </td><td>Futrelle, Mrs. Jacques Heath (Lily May Peel)       </td><td>female</td><td>35.0         </td><td>1.0           </td><td>0.0           </td><td>113803.0     </td><td>53.1         </td><td>C123   </td><td>S         </td></tr>\n",
       "<tr><td>4      </td><td>5.0          </td><td>0         </td><td>3       </td><td>Allen, Mr. William Henry                           </td><td>male  </td><td>35.0         </td><td>0.0           </td><td>0.0           </td><td>373450.0     </td><td>8.05         </td><td>       </td><td>S         </td></tr>\n",
       "<tr><td>5      </td><td>7.0          </td><td>0         </td><td>1       </td><td>McCarthy, Mr. Timothy J                            </td><td>male  </td><td>54.0         </td><td>0.0           </td><td>0.0           </td><td>17463.0      </td><td>51.8625      </td><td>E46    </td><td>S         </td></tr>\n",
       "<tr><td>6      </td><td>9.0          </td><td>1         </td><td>3       </td><td>Johnson, Mrs. Oscar W (Elisabeth Vilhelmina Berg)  </td><td>female</td><td>27.0         </td><td>0.0           </td><td>2.0           </td><td>347742.0     </td><td>11.1333      </td><td>       </td><td>S         </td></tr>\n",
       "<tr><td>7      </td><td>11.0         </td><td>1         </td><td>3       </td><td>Sandstrom, Miss. Marguerite Rut                    </td><td>female</td><td>4.0          </td><td>1.0           </td><td>1.0           </td><td>nan          </td><td>16.7         </td><td>G6     </td><td>S         </td></tr>\n",
       "<tr><td>8      </td><td>12.0         </td><td>1         </td><td>1       </td><td>Bonnell, Miss. Elizabeth                           </td><td>female</td><td>58.0         </td><td>0.0           </td><td>0.0           </td><td>113783.0     </td><td>26.55        </td><td>C103   </td><td>S         </td></tr>\n",
       "<tr><td>9      </td><td>13.0         </td><td>0         </td><td>3       </td><td>Saundercock, Mr. William Henry                     </td><td>male  </td><td>20.0         </td><td>0.0           </td><td>0.0           </td><td>nan          </td><td>8.05         </td><td>       </td><td>S         </td></tr>\n",
       "</tbody>\n",
       "</table>"
      ]
     },
     "metadata": {},
     "output_type": "display_data"
    }
   ],
   "source": [
    "train.summary()"
   ]
  },
  {
   "cell_type": "code",
   "execution_count": 9,
   "metadata": {},
   "outputs": [
    {
     "name": "stdout",
     "output_type": "stream",
     "text": [
      "AutoML progress: |████████████████████████████████████████████████████████| 100%\n"
     ]
    }
   ],
   "source": [
    "# Run AutoML for 60 seconds\n",
    "# exclude algos which PrintMojo doen't handle\n",
    "#aml = H2OAutoML(max_runtime_secs = 160, include_algos=['GBM', 'DRF']) #exclude_algos=['XGBoost', 'StackedEnsemble', 'DeepLearning', 'GLM'], include_algos=['GBM'])\n",
    "\n",
    "aml = H2OAutoML(max_runtime_secs = 60) ## , include_algos=['GBM', 'DRF']) #exclude_algos=['XGBoost', 'StackedEnsemble', 'DeepLearning', 'GLM'], include_algos=['GBM'])\n",
    "\n",
    "aml.train(x = x, y = y, training_frame = train, validation_frame = test) ##leaderboard_frame = test)"
   ]
  },
  {
   "cell_type": "markdown",
   "metadata": {},
   "source": [
    "## View the AutoML Leaderboard"
   ]
  },
  {
   "cell_type": "code",
   "execution_count": 10,
   "metadata": {},
   "outputs": [
    {
     "data": {
      "text/html": [
       "<table>\n",
       "<thead>\n",
       "<tr><th>model_id                                           </th><th style=\"text-align: right;\">     auc</th><th style=\"text-align: right;\">  logloss</th><th style=\"text-align: right;\">   aucpr</th><th style=\"text-align: right;\">  mean_per_class_error</th><th style=\"text-align: right;\">    rmse</th><th style=\"text-align: right;\">     mse</th></tr>\n",
       "</thead>\n",
       "<tbody>\n",
       "<tr><td>GBM_grid__1_AutoML_20200216_213624_model_18        </td><td style=\"text-align: right;\">0.849969</td><td style=\"text-align: right;\"> 0.463469</td><td style=\"text-align: right;\">0.838926</td><td style=\"text-align: right;\">              0.2232  </td><td style=\"text-align: right;\">0.384125</td><td style=\"text-align: right;\">0.147552</td></tr>\n",
       "<tr><td>StackedEnsemble_BestOfFamily_AutoML_20200216_213624</td><td style=\"text-align: right;\">0.847776</td><td style=\"text-align: right;\"> 0.457051</td><td style=\"text-align: right;\">0.823026</td><td style=\"text-align: right;\">              0.212466</td><td style=\"text-align: right;\">0.381686</td><td style=\"text-align: right;\">0.145684</td></tr>\n",
       "<tr><td>GBM_grid__1_AutoML_20200216_213624_model_2         </td><td style=\"text-align: right;\">0.847752</td><td style=\"text-align: right;\"> 0.483548</td><td style=\"text-align: right;\">0.816236</td><td style=\"text-align: right;\">              0.204788</td><td style=\"text-align: right;\">0.388079</td><td style=\"text-align: right;\">0.150606</td></tr>\n",
       "<tr><td>StackedEnsemble_AllModels_AutoML_20200216_213624   </td><td style=\"text-align: right;\">0.847418</td><td style=\"text-align: right;\"> 0.454522</td><td style=\"text-align: right;\">0.822598</td><td style=\"text-align: right;\">              0.20469 </td><td style=\"text-align: right;\">0.379324</td><td style=\"text-align: right;\">0.143886</td></tr>\n",
       "<tr><td>XGBoost_grid__1_AutoML_20200216_213624_model_4     </td><td style=\"text-align: right;\">0.845388</td><td style=\"text-align: right;\"> 0.462992</td><td style=\"text-align: right;\">0.829228</td><td style=\"text-align: right;\">              0.204201</td><td style=\"text-align: right;\">0.385027</td><td style=\"text-align: right;\">0.148246</td></tr>\n",
       "<tr><td>XGBoost_3_AutoML_20200216_213624                   </td><td style=\"text-align: right;\">0.84481 </td><td style=\"text-align: right;\"> 0.457056</td><td style=\"text-align: right;\">0.82857 </td><td style=\"text-align: right;\">              0.198675</td><td style=\"text-align: right;\">0.381886</td><td style=\"text-align: right;\">0.145837</td></tr>\n",
       "<tr><td>XRT_1_AutoML_20200216_213624                       </td><td style=\"text-align: right;\">0.844475</td><td style=\"text-align: right;\"> 0.47616 </td><td style=\"text-align: right;\">0.820592</td><td style=\"text-align: right;\">              0.21743 </td><td style=\"text-align: right;\">0.388548</td><td style=\"text-align: right;\">0.150969</td></tr>\n",
       "<tr><td>XGBoost_grid__1_AutoML_20200216_213624_model_6     </td><td style=\"text-align: right;\">0.844394</td><td style=\"text-align: right;\"> 0.458512</td><td style=\"text-align: right;\">0.832743</td><td style=\"text-align: right;\">              0.199286</td><td style=\"text-align: right;\">0.383105</td><td style=\"text-align: right;\">0.14677 </td></tr>\n",
       "<tr><td>XGBoost_grid__1_AutoML_20200216_213624_model_1     </td><td style=\"text-align: right;\">0.844166</td><td style=\"text-align: right;\"> 0.459965</td><td style=\"text-align: right;\">0.836996</td><td style=\"text-align: right;\">              0.212979</td><td style=\"text-align: right;\">0.384147</td><td style=\"text-align: right;\">0.147569</td></tr>\n",
       "<tr><td>GBM_1_AutoML_20200216_213624                       </td><td style=\"text-align: right;\">0.844052</td><td style=\"text-align: right;\"> 0.474076</td><td style=\"text-align: right;\">0.838709</td><td style=\"text-align: right;\">              0.20579 </td><td style=\"text-align: right;\">0.389804</td><td style=\"text-align: right;\">0.151947</td></tr>\n",
       "<tr><td>DeepLearning_grid__2_AutoML_20200216_213624_model_1</td><td style=\"text-align: right;\">0.843457</td><td style=\"text-align: right;\"> 0.637769</td><td style=\"text-align: right;\">0.7775  </td><td style=\"text-align: right;\">              0.2299  </td><td style=\"text-align: right;\">0.409615</td><td style=\"text-align: right;\">0.167785</td></tr>\n",
       "<tr><td>DRF_1_AutoML_20200216_213624                       </td><td style=\"text-align: right;\">0.842055</td><td style=\"text-align: right;\"> 0.486515</td><td style=\"text-align: right;\">0.801224</td><td style=\"text-align: right;\">              0.228164</td><td style=\"text-align: right;\">0.393754</td><td style=\"text-align: right;\">0.155042</td></tr>\n",
       "<tr><td>GBM_2_AutoML_20200216_213624                       </td><td style=\"text-align: right;\">0.841557</td><td style=\"text-align: right;\"> 0.474021</td><td style=\"text-align: right;\">0.813487</td><td style=\"text-align: right;\">              0.216011</td><td style=\"text-align: right;\">0.389728</td><td style=\"text-align: right;\">0.151888</td></tr>\n",
       "<tr><td>GBM_4_AutoML_20200216_213624                       </td><td style=\"text-align: right;\">0.841492</td><td style=\"text-align: right;\"> 0.473335</td><td style=\"text-align: right;\">0.828645</td><td style=\"text-align: right;\">              0.221635</td><td style=\"text-align: right;\">0.390156</td><td style=\"text-align: right;\">0.152222</td></tr>\n",
       "<tr><td>DeepLearning_1_AutoML_20200216_213624              </td><td style=\"text-align: right;\">0.841003</td><td style=\"text-align: right;\"> 0.477147</td><td style=\"text-align: right;\">0.816478</td><td style=\"text-align: right;\">              0.213053</td><td style=\"text-align: right;\">0.38794 </td><td style=\"text-align: right;\">0.150497</td></tr>\n",
       "<tr><td>XGBoost_grid__1_AutoML_20200216_213624_model_2     </td><td style=\"text-align: right;\">0.840245</td><td style=\"text-align: right;\"> 0.463533</td><td style=\"text-align: right;\">0.820552</td><td style=\"text-align: right;\">              0.211634</td><td style=\"text-align: right;\">0.385226</td><td style=\"text-align: right;\">0.148399</td></tr>\n",
       "<tr><td>GLM_1_AutoML_20200216_213624                       </td><td style=\"text-align: right;\">0.840204</td><td style=\"text-align: right;\"> 0.477208</td><td style=\"text-align: right;\">0.818342</td><td style=\"text-align: right;\">              0.230316</td><td style=\"text-align: right;\">0.392322</td><td style=\"text-align: right;\">0.153916</td></tr>\n",
       "<tr><td>GBM_grid__1_AutoML_20200216_213624_model_21        </td><td style=\"text-align: right;\">0.839756</td><td style=\"text-align: right;\"> 0.482442</td><td style=\"text-align: right;\">0.818766</td><td style=\"text-align: right;\">              0.226355</td><td style=\"text-align: right;\">0.395328</td><td style=\"text-align: right;\">0.156284</td></tr>\n",
       "<tr><td>GBM_3_AutoML_20200216_213624                       </td><td style=\"text-align: right;\">0.839528</td><td style=\"text-align: right;\"> 0.47703 </td><td style=\"text-align: right;\">0.825136</td><td style=\"text-align: right;\">              0.225108</td><td style=\"text-align: right;\">0.391517</td><td style=\"text-align: right;\">0.153286</td></tr>\n",
       "<tr><td>GBM_grid__1_AutoML_20200216_213624_model_16        </td><td style=\"text-align: right;\">0.838558</td><td style=\"text-align: right;\"> 0.491018</td><td style=\"text-align: right;\">0.824781</td><td style=\"text-align: right;\">              0.213053</td><td style=\"text-align: right;\">0.389525</td><td style=\"text-align: right;\">0.15173 </td></tr>\n",
       "<tr><td>XGBoost_grid__1_AutoML_20200216_213624_model_7     </td><td style=\"text-align: right;\">0.836912</td><td style=\"text-align: right;\"> 0.473343</td><td style=\"text-align: right;\">0.774516</td><td style=\"text-align: right;\">              0.226257</td><td style=\"text-align: right;\">0.388909</td><td style=\"text-align: right;\">0.15125 </td></tr>\n",
       "<tr><td>GBM_grid__1_AutoML_20200216_213624_model_6         </td><td style=\"text-align: right;\">0.836724</td><td style=\"text-align: right;\"> 0.533836</td><td style=\"text-align: right;\">0.813704</td><td style=\"text-align: right;\">              0.234693</td><td style=\"text-align: right;\">0.417566</td><td style=\"text-align: right;\">0.174361</td></tr>\n",
       "<tr><td>XGBoost_grid__1_AutoML_20200216_213624_model_3     </td><td style=\"text-align: right;\">0.836447</td><td style=\"text-align: right;\"> 0.466916</td><td style=\"text-align: right;\">0.821292</td><td style=\"text-align: right;\">              0.227186</td><td style=\"text-align: right;\">0.387448</td><td style=\"text-align: right;\">0.150116</td></tr>\n",
       "<tr><td>XGBoost_1_AutoML_20200216_213624                   </td><td style=\"text-align: right;\">0.834849</td><td style=\"text-align: right;\"> 0.470115</td><td style=\"text-align: right;\">0.815965</td><td style=\"text-align: right;\">              0.225132</td><td style=\"text-align: right;\">0.389011</td><td style=\"text-align: right;\">0.15133 </td></tr>\n",
       "<tr><td>GBM_grid__1_AutoML_20200216_213624_model_4         </td><td style=\"text-align: right;\">0.83194 </td><td style=\"text-align: right;\"> 0.504097</td><td style=\"text-align: right;\">0.794296</td><td style=\"text-align: right;\">              0.23462 </td><td style=\"text-align: right;\">0.405963</td><td style=\"text-align: right;\">0.164806</td></tr>\n",
       "<tr><td>GBM_grid__1_AutoML_20200216_213624_model_9         </td><td style=\"text-align: right;\">0.830595</td><td style=\"text-align: right;\"> 0.476023</td><td style=\"text-align: right;\">0.819399</td><td style=\"text-align: right;\">              0.248215</td><td style=\"text-align: right;\">0.391567</td><td style=\"text-align: right;\">0.153325</td></tr>\n",
       "<tr><td>GBM_5_AutoML_20200216_213624                       </td><td style=\"text-align: right;\">0.829038</td><td style=\"text-align: right;\"> 0.497243</td><td style=\"text-align: right;\">0.805793</td><td style=\"text-align: right;\">              0.241271</td><td style=\"text-align: right;\">0.402039</td><td style=\"text-align: right;\">0.161636</td></tr>\n",
       "<tr><td>XGBoost_2_AutoML_20200216_213624                   </td><td style=\"text-align: right;\">0.826161</td><td style=\"text-align: right;\"> 0.496653</td><td style=\"text-align: right;\">0.801974</td><td style=\"text-align: right;\">              0.235549</td><td style=\"text-align: right;\">0.401648</td><td style=\"text-align: right;\">0.161321</td></tr>\n",
       "<tr><td>XGBoost_grid__1_AutoML_20200216_213624_model_5     </td><td style=\"text-align: right;\">0.824522</td><td style=\"text-align: right;\"> 0.540186</td><td style=\"text-align: right;\">0.81198 </td><td style=\"text-align: right;\">              0.240733</td><td style=\"text-align: right;\">0.417262</td><td style=\"text-align: right;\">0.174107</td></tr>\n",
       "<tr><td>GBM_grid__1_AutoML_20200216_213624_model_20        </td><td style=\"text-align: right;\">0.82008 </td><td style=\"text-align: right;\"> 0.580134</td><td style=\"text-align: right;\">0.80411 </td><td style=\"text-align: right;\">              0.260074</td><td style=\"text-align: right;\">0.441624</td><td style=\"text-align: right;\">0.195032</td></tr>\n",
       "<tr><td>GBM_grid__1_AutoML_20200216_213624_model_1         </td><td style=\"text-align: right;\">0.819722</td><td style=\"text-align: right;\"> 0.60948 </td><td style=\"text-align: right;\">0.811271</td><td style=\"text-align: right;\">              0.272423</td><td style=\"text-align: right;\">0.457225</td><td style=\"text-align: right;\">0.209055</td></tr>\n",
       "<tr><td>GBM_grid__1_AutoML_20200216_213624_model_5         </td><td style=\"text-align: right;\">0.818695</td><td style=\"text-align: right;\"> 0.500186</td><td style=\"text-align: right;\">0.786018</td><td style=\"text-align: right;\">              0.253937</td><td style=\"text-align: right;\">0.401932</td><td style=\"text-align: right;\">0.161549</td></tr>\n",
       "<tr><td>GBM_grid__1_AutoML_20200216_213624_model_10        </td><td style=\"text-align: right;\">0.814611</td><td style=\"text-align: right;\"> 0.537419</td><td style=\"text-align: right;\">0.78414 </td><td style=\"text-align: right;\">              0.23929 </td><td style=\"text-align: right;\">0.420822</td><td style=\"text-align: right;\">0.177091</td></tr>\n",
       "<tr><td>DeepLearning_grid__1_AutoML_20200216_213624_model_3</td><td style=\"text-align: right;\">0.813013</td><td style=\"text-align: right;\"> 0.599311</td><td style=\"text-align: right;\">0.760458</td><td style=\"text-align: right;\">              0.244621</td><td style=\"text-align: right;\">0.427862</td><td style=\"text-align: right;\">0.183066</td></tr>\n",
       "<tr><td>GBM_grid__1_AutoML_20200216_213624_model_15        </td><td style=\"text-align: right;\">0.809973</td><td style=\"text-align: right;\"> 0.62893 </td><td style=\"text-align: right;\">0.791961</td><td style=\"text-align: right;\">              0.250318</td><td style=\"text-align: right;\">0.467418</td><td style=\"text-align: right;\">0.21848 </td></tr>\n",
       "<tr><td>GBM_grid__1_AutoML_20200216_213624_model_7         </td><td style=\"text-align: right;\">0.807235</td><td style=\"text-align: right;\"> 0.546442</td><td style=\"text-align: right;\">0.76073 </td><td style=\"text-align: right;\">              0.244792</td><td style=\"text-align: right;\">0.425433</td><td style=\"text-align: right;\">0.180994</td></tr>\n",
       "<tr><td>GBM_grid__1_AutoML_20200216_213624_model_13        </td><td style=\"text-align: right;\">0.802222</td><td style=\"text-align: right;\"> 0.553898</td><td style=\"text-align: right;\">0.750264</td><td style=\"text-align: right;\">              0.266872</td><td style=\"text-align: right;\">0.429552</td><td style=\"text-align: right;\">0.184515</td></tr>\n",
       "<tr><td>DeepLearning_grid__1_AutoML_20200216_213624_model_1</td><td style=\"text-align: right;\">0.802173</td><td style=\"text-align: right;\"> 0.731319</td><td style=\"text-align: right;\">0.752713</td><td style=\"text-align: right;\">              0.245427</td><td style=\"text-align: right;\">0.44172 </td><td style=\"text-align: right;\">0.195117</td></tr>\n",
       "<tr><td>GBM_grid__1_AutoML_20200216_213624_model_17        </td><td style=\"text-align: right;\">0.779938</td><td style=\"text-align: right;\"> 0.645637</td><td style=\"text-align: right;\">0.746061</td><td style=\"text-align: right;\">              0.288757</td><td style=\"text-align: right;\">0.476105</td><td style=\"text-align: right;\">0.226676</td></tr>\n",
       "<tr><td>GBM_grid__1_AutoML_20200216_213624_model_8         </td><td style=\"text-align: right;\">0.779775</td><td style=\"text-align: right;\"> 0.649928</td><td style=\"text-align: right;\">0.771751</td><td style=\"text-align: right;\">              0.263791</td><td style=\"text-align: right;\">0.478251</td><td style=\"text-align: right;\">0.228724</td></tr>\n",
       "<tr><td>GBM_grid__1_AutoML_20200216_213624_model_11        </td><td style=\"text-align: right;\">0.767165</td><td style=\"text-align: right;\"> 0.652334</td><td style=\"text-align: right;\">0.749323</td><td style=\"text-align: right;\">              0.28482 </td><td style=\"text-align: right;\">0.479492</td><td style=\"text-align: right;\">0.229913</td></tr>\n",
       "<tr><td>GBM_grid__1_AutoML_20200216_213624_model_19        </td><td style=\"text-align: right;\">0.766717</td><td style=\"text-align: right;\"> 0.650655</td><td style=\"text-align: right;\">0.739173</td><td style=\"text-align: right;\">              0.320618</td><td style=\"text-align: right;\">0.478664</td><td style=\"text-align: right;\">0.229119</td></tr>\n",
       "<tr><td>GBM_grid__1_AutoML_20200216_213624_model_14        </td><td style=\"text-align: right;\">0.76512 </td><td style=\"text-align: right;\"> 0.650367</td><td style=\"text-align: right;\">0.74621 </td><td style=\"text-align: right;\">              0.309884</td><td style=\"text-align: right;\">0.478486</td><td style=\"text-align: right;\">0.228949</td></tr>\n",
       "<tr><td>DeepLearning_grid__1_AutoML_20200216_213624_model_2</td><td style=\"text-align: right;\">0.726558</td><td style=\"text-align: right;\"> 0.655138</td><td style=\"text-align: right;\">0.661281</td><td style=\"text-align: right;\">              0.313772</td><td style=\"text-align: right;\">0.469522</td><td style=\"text-align: right;\">0.220451</td></tr>\n",
       "<tr><td>GBM_grid__1_AutoML_20200216_213624_model_12        </td><td style=\"text-align: right;\">0.605365</td><td style=\"text-align: right;\"> 0.676912</td><td style=\"text-align: right;\">0.628288</td><td style=\"text-align: right;\">              0.457209</td><td style=\"text-align: right;\">0.491884</td><td style=\"text-align: right;\">0.24195 </td></tr>\n",
       "<tr><td>GBM_grid__1_AutoML_20200216_213624_model_3         </td><td style=\"text-align: right;\">0.547511</td><td style=\"text-align: right;\"> 0.681853</td><td style=\"text-align: right;\">0.553104</td><td style=\"text-align: right;\">              0.472931</td><td style=\"text-align: right;\">0.494332</td><td style=\"text-align: right;\">0.244364</td></tr>\n",
       "</tbody>\n",
       "</table>"
      ]
     },
     "metadata": {},
     "output_type": "display_data"
    },
    {
     "data": {
      "text/plain": []
     },
     "execution_count": 10,
     "metadata": {},
     "output_type": "execute_result"
    }
   ],
   "source": [
    "lb = aml.leaderboard\n",
    "lb.head(rows=lb.nrows)"
   ]
  },
  {
   "cell_type": "code",
   "execution_count": 11,
   "metadata": {},
   "outputs": [
    {
     "name": "stdout",
     "output_type": "stream",
     "text": [
      "gbm prediction progress: |████████████████████████████████████████████████| 100%\n",
      "gbm prediction progress: |████████████████████████████████████████████████| 100%\n"
     ]
    }
   ],
   "source": [
    "# To generate predictions on a test set, use `\"H2OAutoML\"` object, or on the leader model object directly as below:\n",
    "preds = aml.predict(test)\n",
    "# or\n",
    "preds = aml.leader.predict(test)"
   ]
  },
  {
   "cell_type": "code",
   "execution_count": 12,
   "metadata": {},
   "outputs": [
    {
     "data": {
      "text/html": [
       "<table>\n",
       "<thead>\n",
       "<tr><th style=\"text-align: right;\">  predict</th><th style=\"text-align: right;\">      p0</th><th style=\"text-align: right;\">      p1</th></tr>\n",
       "</thead>\n",
       "<tbody>\n",
       "<tr><td style=\"text-align: right;\">        0</td><td style=\"text-align: right;\">0.827919</td><td style=\"text-align: right;\">0.172081</td></tr>\n",
       "<tr><td style=\"text-align: right;\">        1</td><td style=\"text-align: right;\">0.100823</td><td style=\"text-align: right;\">0.899177</td></tr>\n",
       "<tr><td style=\"text-align: right;\">        0</td><td style=\"text-align: right;\">0.81723 </td><td style=\"text-align: right;\">0.18277 </td></tr>\n",
       "<tr><td style=\"text-align: right;\">        1</td><td style=\"text-align: right;\">0.424181</td><td style=\"text-align: right;\">0.575819</td></tr>\n",
       "<tr><td style=\"text-align: right;\">        1</td><td style=\"text-align: right;\">0.18573 </td><td style=\"text-align: right;\">0.81427 </td></tr>\n",
       "<tr><td style=\"text-align: right;\">        1</td><td style=\"text-align: right;\">0.69026 </td><td style=\"text-align: right;\">0.30974 </td></tr>\n",
       "<tr><td style=\"text-align: right;\">        0</td><td style=\"text-align: right;\">0.694293</td><td style=\"text-align: right;\">0.305707</td></tr>\n",
       "<tr><td style=\"text-align: right;\">        0</td><td style=\"text-align: right;\">0.835487</td><td style=\"text-align: right;\">0.164513</td></tr>\n",
       "<tr><td style=\"text-align: right;\">        1</td><td style=\"text-align: right;\">0.669161</td><td style=\"text-align: right;\">0.330839</td></tr>\n",
       "<tr><td style=\"text-align: right;\">        1</td><td style=\"text-align: right;\">0.152046</td><td style=\"text-align: right;\">0.847954</td></tr>\n",
       "</tbody>\n",
       "</table>"
      ]
     },
     "metadata": {},
     "output_type": "display_data"
    },
    {
     "data": {
      "text/plain": []
     },
     "execution_count": 12,
     "metadata": {},
     "output_type": "execute_result"
    }
   ],
   "source": [
    "preds"
   ]
  },
  {
   "cell_type": "code",
   "execution_count": 13,
   "metadata": {},
   "outputs": [
    {
     "data": {
      "text/plain": [
       "u'/Users/lars/h2o/titanic/GBM_grid__1_AutoML_20200216_213624_model_18.zip'"
      ]
     },
     "execution_count": 13,
     "metadata": {},
     "output_type": "execute_result"
    }
   ],
   "source": [
    "model_id = aml.leader.model_id\n",
    "aml.download_mojo(genmodel_name=model_id, path=\"~/h2o/titanic/\"+model_id+\".zip\")"
   ]
  },
  {
   "cell_type": "markdown",
   "metadata": {},
   "source": [
    "### show parameters"
   ]
  },
  {
   "cell_type": "code",
   "execution_count": 14,
   "metadata": {},
   "outputs": [
    {
     "data": {
      "text/plain": [
       "{u'balance_classes': {u'actual': False, u'default': False},\n",
       " u'build_tree_one_node': {u'actual': False, u'default': False},\n",
       " u'calibrate_model': {u'actual': False, u'default': False},\n",
       " u'calibration_frame': {u'actual': None, u'default': None},\n",
       " u'categorical_encoding': {u'actual': u'AUTO', u'default': u'AUTO'},\n",
       " u'check_constant_response': {u'actual': True, u'default': True},\n",
       " u'checkpoint': {u'actual': None, u'default': None},\n",
       " u'class_sampling_factors': {u'actual': None, u'default': None},\n",
       " u'col_sample_rate': {u'actual': 1.0, u'default': 1.0},\n",
       " u'col_sample_rate_change_per_level': {u'actual': 1.0, u'default': 1.0},\n",
       " u'col_sample_rate_per_tree': {u'actual': 0.7, u'default': 1.0},\n",
       " u'custom_distribution_func': {u'actual': None, u'default': None},\n",
       " u'custom_metric_func': {u'actual': None, u'default': None},\n",
       " u'distribution': {u'actual': u'bernoulli', u'default': u'AUTO'},\n",
       " u'export_checkpoints_dir': {u'actual': None, u'default': None},\n",
       " u'fold_assignment': {u'actual': u'Modulo', u'default': u'AUTO'},\n",
       " u'fold_column': {u'actual': None, u'default': None},\n",
       " u'histogram_type': {u'actual': u'AUTO', u'default': u'AUTO'},\n",
       " u'huber_alpha': {u'actual': 0.9, u'default': 0.9},\n",
       " u'ignore_const_cols': {u'actual': True, u'default': True},\n",
       " u'ignored_columns': {u'actual': [u'Cabin',\n",
       "   u'Ticket',\n",
       "   u'PassengerId',\n",
       "   u'Name'],\n",
       "  u'default': None},\n",
       " u'keep_cross_validation_fold_assignment': {u'actual': False,\n",
       "  u'default': False},\n",
       " u'keep_cross_validation_models': {u'actual': False, u'default': True},\n",
       " u'keep_cross_validation_predictions': {u'actual': True, u'default': False},\n",
       " u'learn_rate': {u'actual': 0.05, u'default': 0.1},\n",
       " u'learn_rate_annealing': {u'actual': 1.0, u'default': 1.0},\n",
       " u'max_abs_leafnode_pred': {u'actual': 1.7976931348623157e+308,\n",
       "  u'default': 1.7976931348623157e+308},\n",
       " u'max_after_balance_size': {u'actual': 5.0, u'default': 5.0},\n",
       " u'max_confusion_matrix_size': {u'actual': 20, u'default': 20},\n",
       " u'max_depth': {u'actual': 3, u'default': 5},\n",
       " u'max_hit_ratio_k': {u'actual': 0, u'default': 0},\n",
       " u'max_runtime_secs': {u'actual': 0.0, u'default': 0.0},\n",
       " u'min_rows': {u'actual': 1.0, u'default': 10.0},\n",
       " u'min_split_improvement': {u'actual': 1e-05, u'default': 1e-05},\n",
       " u'model_id': {u'actual': {u'URL': u'/3/Models/GBM_grid__1_AutoML_20200216_213624_model_18',\n",
       "   u'__meta': {u'schema_name': u'ModelKeyV3',\n",
       "    u'schema_type': u'Key<Model>',\n",
       "    u'schema_version': 3},\n",
       "   u'name': u'GBM_grid__1_AutoML_20200216_213624_model_18',\n",
       "   u'type': u'Key<Model>'},\n",
       "  u'default': None},\n",
       " u'monotone_constraints': {u'actual': None, u'default': None},\n",
       " u'nbins': {u'actual': 20, u'default': 20},\n",
       " u'nbins_cats': {u'actual': 1024, u'default': 1024},\n",
       " u'nbins_top_level': {u'actual': 1024, u'default': 1024},\n",
       " u'nfolds': {u'actual': 5, u'default': 0},\n",
       " u'ntrees': {u'actual': 57, u'default': 50},\n",
       " u'offset_column': {u'actual': None, u'default': None},\n",
       " u'pred_noise_bandwidth': {u'actual': 0.0, u'default': 0.0},\n",
       " u'quantile_alpha': {u'actual': 0.5, u'default': 0.5},\n",
       " u'r2_stopping': {u'actual': 1.7976931348623157e+308,\n",
       "  u'default': 1.7976931348623157e+308},\n",
       " u'response_column': {u'actual': {u'__meta': {u'schema_name': u'ColSpecifierV3',\n",
       "    u'schema_type': u'VecSpecifier',\n",
       "    u'schema_version': 3},\n",
       "   u'column_name': u'Survived',\n",
       "   u'is_member_of_frames': None},\n",
       "  u'default': None},\n",
       " u'sample_rate': {u'actual': 0.5, u'default': 1.0},\n",
       " u'sample_rate_per_class': {u'actual': None, u'default': None},\n",
       " u'score_each_iteration': {u'actual': False, u'default': False},\n",
       " u'score_tree_interval': {u'actual': 5, u'default': 0},\n",
       " u'seed': {u'actual': -2125971713475842580, u'default': -1},\n",
       " u'stopping_metric': {u'actual': u'logloss', u'default': u'AUTO'},\n",
       " u'stopping_rounds': {u'actual': 0, u'default': 0},\n",
       " u'stopping_tolerance': {u'actual': 0.04467670516087703, u'default': 0.001},\n",
       " u'training_frame': {u'actual': {u'URL': u'/3/Frames/automl_training_py_11_sid_a599',\n",
       "   u'__meta': {u'schema_name': u'FrameKeyV3',\n",
       "    u'schema_type': u'Key<Frame>',\n",
       "    u'schema_version': 3},\n",
       "   u'name': u'automl_training_py_11_sid_a599',\n",
       "   u'type': u'Key<Frame>'},\n",
       "  u'default': None},\n",
       " u'tweedie_power': {u'actual': 1.5, u'default': 1.5},\n",
       " u'validation_frame': {u'actual': {u'URL': u'/3/Frames/py_13_sid_a599',\n",
       "   u'__meta': {u'schema_name': u'FrameKeyV3',\n",
       "    u'schema_type': u'Key<Frame>',\n",
       "    u'schema_version': 3},\n",
       "   u'name': u'py_13_sid_a599',\n",
       "   u'type': u'Key<Frame>'},\n",
       "  u'default': None},\n",
       " u'weights_column': {u'actual': None, u'default': None}}"
      ]
     },
     "execution_count": 14,
     "metadata": {},
     "output_type": "execute_result"
    }
   ],
   "source": [
    "aml.leader.params"
   ]
  },
  {
   "cell_type": "code",
   "execution_count": null,
   "metadata": {},
   "outputs": [],
   "source": []
  }
 ],
 "metadata": {
  "kernelspec": {
   "display_name": "Python 3",
   "language": "python",
   "name": "python3"
  },
  "language_info": {
   "codemirror_mode": {
    "name": "ipython",
    "version": 2
   },
   "file_extension": ".py",
   "mimetype": "text/x-python",
   "name": "python",
   "nbconvert_exporter": "python",
   "pygments_lexer": "ipython2",
   "version": "2.7.17"
  }
 },
 "nbformat": 4,
 "nbformat_minor": 2
}
